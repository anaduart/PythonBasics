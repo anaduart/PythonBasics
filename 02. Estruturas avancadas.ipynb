{
 "cells": [
  {
   "cell_type": "markdown",
   "id": "7725ab94",
   "metadata": {},
   "source": [
    "## Python Basics da Let's Code"
   ]
  },
  {
   "cell_type": "markdown",
   "id": "c5bd758e",
   "metadata": {},
   "source": [
    "[link](https://selecao.letscode.com.br/curso-digital/e44a37c9-4389-46c4-9763-a64adc6d01bf/modulo/a1fac656-3d35-474b-81b7-a74d78d5fa2b/topico/24338f84-0512-4dc6-b0c9-098af07ad0c0?uuid=2703f29b-7169-49e4-b601-8a08dbbb4b06)"
   ]
  },
  {
   "cell_type": "markdown",
   "id": "48b0af95",
   "metadata": {},
   "source": [
    "### Aula 01 - Listas e Tuplas"
   ]
  },
  {
   "cell_type": "markdown",
   "id": "a56d3b95",
   "metadata": {},
   "source": [
    "Seguindo outros tipo de váriaveis, na aula será explorado as listas e as tuplas que são capazes de juntar tipos de variáveis diferentes inseridos no grupo de estrutura e dados."
   ]
  },
  {
   "cell_type": "markdown",
   "id": "0c814609",
   "metadata": {},
   "source": [
    "**Listas**\n",
    "\n",
    "Listas são coleções ou sequência de objetos em Python. Ao invés de declarar 1 variável para cada valor que gostaríamos de armazenar, podemos criar uma lista para armazenar vários valores.\n",
    "\n",
    "Ordenado em indexação com base de 0."
   ]
  },
  {
   "cell_type": "code",
   "execution_count": 2,
   "id": "ce85b18f",
   "metadata": {},
   "outputs": [
    {
     "name": "stdout",
     "output_type": "stream",
     "text": [
      "['Brasil', 'Argentina', 'China', 'Canadá', 'Japão']\n"
     ]
    }
   ],
   "source": [
    "#Declarando uma lista\n",
    "nomes_paises = ['Brasil', 'Argentina', 'China', 'Canadá', 'Japão']\n",
    "print(nomes_paises)"
   ]
  },
  {
   "cell_type": "code",
   "execution_count": 3,
   "id": "660a5012",
   "metadata": {},
   "outputs": [
    {
     "name": "stdout",
     "output_type": "stream",
     "text": [
      "Tamanho da lista:  5\n"
     ]
    }
   ],
   "source": [
    "#Qual o tamanho da nossa lista?\n",
    "print('Tamanho da lista: ', len(nomes_paises))"
   ]
  },
  {
   "cell_type": "code",
   "execution_count": 5,
   "id": "7dcee93b",
   "metadata": {},
   "outputs": [
    {
     "name": "stdout",
     "output_type": "stream",
     "text": [
      "País:  Japão\n"
     ]
    }
   ],
   "source": [
    "#Qual o último país da minha lista?\n",
    "print('País: ', nomes_paises[4])"
   ]
  },
  {
   "cell_type": "code",
   "execution_count": 6,
   "id": "b38eb1d8",
   "metadata": {},
   "outputs": [
    {
     "name": "stdout",
     "output_type": "stream",
     "text": [
      "País:  Japão\n"
     ]
    }
   ],
   "source": [
    "# Também posso saber o último país usando um elemento negativo\n",
    "print('País: ', nomes_paises[-1])"
   ]
  },
  {
   "cell_type": "code",
   "execution_count": 7,
   "id": "8bca2b35",
   "metadata": {},
   "outputs": [
    {
     "name": "stdout",
     "output_type": "stream",
     "text": [
      "Países:  ['Brasil', 'Argentina', 'China', 'Canadá', 'Colômbia']\n"
     ]
    }
   ],
   "source": [
    "# Para substituirmos o nome do país na nossa lista, fazemos:\n",
    "nomes_paises[4] = 'Colômbia'\n",
    "print('Países: ', nomes_paises)"
   ]
  },
  {
   "cell_type": "code",
   "execution_count": 8,
   "id": "a5a480ce",
   "metadata": {},
   "outputs": [
    {
     "ename": "IndexError",
     "evalue": "list assignment index out of range",
     "output_type": "error",
     "traceback": [
      "\u001b[1;31m---------------------------------------------------------------------------\u001b[0m",
      "\u001b[1;31mIndexError\u001b[0m                                Traceback (most recent call last)",
      "\u001b[1;32m<ipython-input-8-bd53c8076526>\u001b[0m in \u001b[0;36m<module>\u001b[1;34m\u001b[0m\n\u001b[0;32m      1\u001b[0m \u001b[1;31m# Adicionar um novo país na minha lista\u001b[0m\u001b[1;33m\u001b[0m\u001b[1;33m\u001b[0m\u001b[1;33m\u001b[0m\u001b[0m\n\u001b[0;32m      2\u001b[0m \u001b[1;31m# não fazer:\u001b[0m\u001b[1;33m\u001b[0m\u001b[1;33m\u001b[0m\u001b[1;33m\u001b[0m\u001b[0m\n\u001b[1;32m----> 3\u001b[1;33m \u001b[0mnomes_paises\u001b[0m\u001b[1;33m[\u001b[0m\u001b[1;36m5\u001b[0m\u001b[1;33m]\u001b[0m \u001b[1;33m=\u001b[0m \u001b[1;34m'Chile'\u001b[0m\u001b[1;33m\u001b[0m\u001b[1;33m\u001b[0m\u001b[0m\n\u001b[0m",
      "\u001b[1;31mIndexError\u001b[0m: list assignment index out of range"
     ]
    }
   ],
   "source": [
    "# Adicionar um novo país na minha lista\n",
    "# não fazer:\n",
    "nomes_paises[5] = 'Chile'"
   ]
  },
  {
   "cell_type": "code",
   "execution_count": 9,
   "id": "c407709a",
   "metadata": {},
   "outputs": [
    {
     "name": "stdout",
     "output_type": "stream",
     "text": [
      "['Argentina', 'China']\n",
      "['Argentina', 'China', 'Canadá']\n",
      "['China', 'Canadá', 'Colômbia']\n",
      "['Brasil', 'Argentina']\n",
      "['Brasil', 'Argentina', 'China', 'Canadá', 'Colômbia']\n",
      "['Brasil', 'China', 'Colômbia']\n",
      "['Colômbia', 'Canadá', 'China', 'Argentina', 'Brasil']\n",
      "True\n"
     ]
    }
   ],
   "source": [
    "#Slicing, usando o índice inicial e o índice final, inclusivo na direita e não inclusivo na esquerda\n",
    "print(nomes_paises[1:3])\n",
    "print(nomes_paises[1:-1])\n",
    "#omitir o índice final\n",
    "print(nomes_paises[2:])\n",
    "#omitir o índice inicial\n",
    "print(nomes_paises[:2])\n",
    "#omitir ambos os índices\n",
    "print(nomes_paises[:])\n",
    "#especificando um step\n",
    "print(nomes_paises[::2])\n",
    "#especificando um step decrescente\n",
    "print(nomes_paises[::-1])\n",
    "#verificando se há um valor específico na lista\n",
    "print('Brasil' in nomes_paises)"
   ]
  },
  {
   "cell_type": "code",
   "execution_count": null,
   "id": "80cfb56f",
   "metadata": {},
   "outputs": [],
   "source": []
  },
  {
   "cell_type": "code",
   "execution_count": 49,
   "id": "35eeb0f7",
   "metadata": {},
   "outputs": [
    {
     "data": {
      "text/plain": [
       "[0, 1, 2, 3, 4, 5, 6, 7, 8, 9, 10]"
      ]
     },
     "execution_count": 49,
     "metadata": {},
     "output_type": "execute_result"
    }
   ],
   "source": [
    "# podemos criar uma sequência de número com a função range e força-a a mostrar em lista\n",
    "list(range(0,11))"
   ]
  },
  {
   "cell_type": "markdown",
   "id": "693797b4",
   "metadata": {},
   "source": [
    "A principal diferença entre função e métodos é que o método é executado a partir do valor da variável e as funções são mais genéricas.\n",
    "podemos identificar quais métodos poddem ser usados à uma variável espécifica basta usar a função <code>dir()</code>"
   ]
  },
  {
   "cell_type": "code",
   "execution_count": 10,
   "id": "9b9f1138",
   "metadata": {},
   "outputs": [
    {
     "name": "stdout",
     "output_type": "stream",
     "text": [
      "['Brasília', 'Buenos Aires', 'Pequim', 'Bogotá']\n"
     ]
    }
   ],
   "source": [
    "lista_capitais = []\n",
    "lista_capitais.append('Brasília')\n",
    "lista_capitais.append('Buenos Aires')\n",
    "lista_capitais.append('Pequim')\n",
    "lista_capitais.append('Bogotá')\n",
    "print(lista_capitais)"
   ]
  },
  {
   "cell_type": "code",
   "execution_count": 11,
   "id": "b87aaa0b",
   "metadata": {},
   "outputs": [
    {
     "name": "stdout",
     "output_type": "stream",
     "text": [
      "['Brasília', 'Buenos Aires', 'Paris', 'Pequim', 'Bogotá']\n"
     ]
    }
   ],
   "source": [
    "#Inserindo em um lugar específico da lista\n",
    "lista_capitais.insert(2, 'Paris')\n",
    "print(lista_capitais)"
   ]
  },
  {
   "cell_type": "code",
   "execution_count": 12,
   "id": "1a30bffa",
   "metadata": {},
   "outputs": [
    {
     "name": "stdout",
     "output_type": "stream",
     "text": [
      "['Brasília', 'Paris', 'Pequim', 'Bogotá']\n"
     ]
    }
   ],
   "source": [
    "#Removendo um valor da lista\n",
    "lista_capitais.remove('Buenos Aires')\n",
    "print(lista_capitais)"
   ]
  },
  {
   "cell_type": "code",
   "execution_count": 13,
   "id": "587be7a0",
   "metadata": {},
   "outputs": [
    {
     "name": "stdout",
     "output_type": "stream",
     "text": [
      "['Brasília', 'Paris', 'Bogotá'] Pequim\n"
     ]
    }
   ],
   "source": [
    "#Outro método para excluir um valor pela posição e que permite identificar qual elemento foi remolvido\n",
    "removido = lista_capitais.pop(2)\n",
    "print(lista_capitais, removido)"
   ]
  },
  {
   "cell_type": "code",
   "execution_count": 14,
   "id": "bc5292b6",
   "metadata": {},
   "outputs": [
    {
     "name": "stdout",
     "output_type": "stream",
     "text": [
      "1\n",
      "3\n",
      "7\n",
      "8\n",
      "9\n"
     ]
    }
   ],
   "source": [
    "# Criando uma lista vazia.\n",
    "listavazia = []\n",
    "\n",
    "# Criando uma lista com alguns valores.\n",
    "numeros = [1, 3, 7, 8, 9]\n",
    "\n",
    "# Listas podem mesclar diferentes tipos de valores.\n",
    "listamista = [14, \"let's code\", 0.1, True]\n",
    "\n",
    "# Acessamos cada elemento da lista através de um índice entre colchetes.\n",
    "# Os índices começam em 0.\n",
    "print(numeros[0])\n",
    "print(numeros[1])\n",
    "print(numeros[2])\n",
    "print(numeros[3])\n",
    "print(numeros[4])"
   ]
  },
  {
   "cell_type": "code",
   "execution_count": 15,
   "id": "805d407d",
   "metadata": {},
   "outputs": [
    {
     "name": "stdout",
     "output_type": "stream",
     "text": [
      "[1, 3, 5, 8, 9]\n"
     ]
    }
   ],
   "source": [
    "# Listas são mutáveis: podemos alterar o valor de seus itens.\n",
    "numeros[2] = 5\n",
    "print(numeros)"
   ]
  },
  {
   "cell_type": "code",
   "execution_count": 16,
   "id": "a8416a28",
   "metadata": {},
   "outputs": [
    {
     "name": "stdout",
     "output_type": "stream",
     "text": [
      "1\n",
      "3\n",
      "5\n",
      "8\n",
      "9\n"
     ]
    }
   ],
   "source": [
    "# Um jeito inteligente de trabalhar com listas é utilizando loops.\n",
    "indice = 0\n",
    "while indice < 5:\n",
    "    print(numeros[indice])\n",
    "    indice = indice + 1"
   ]
  },
  {
   "cell_type": "markdown",
   "id": "d6812304",
   "metadata": {},
   "source": [
    "**Funções de listas**\n",
    "\n",
    "Algumas funções podem nos ajudar a trabalhar com listas. Ao percorrermos nossa lista com um while, poderíamos usar len() caso não soubéssemos o comprimento da lista."
   ]
  },
  {
   "cell_type": "code",
   "execution_count": 17,
   "id": "83877850",
   "metadata": {},
   "outputs": [
    {
     "name": "stdout",
     "output_type": "stream",
     "text": [
      "1\n",
      "3\n",
      "5\n",
      "8\n",
      "9\n"
     ]
    }
   ],
   "source": [
    "indice = 0\n",
    "while indice < len(numeros):\n",
    "    print(numeros[indice])\n",
    "    indice = indice + 1"
   ]
  },
  {
   "cell_type": "markdown",
   "id": "1f27a9bc",
   "metadata": {},
   "source": [
    "Outra função útil é lista.append(), que coloca um elemento novo ao final da lista."
   ]
  },
  {
   "cell_type": "code",
   "execution_count": 28,
   "id": "c658dc6e",
   "metadata": {},
   "outputs": [
    {
     "name": "stdout",
     "output_type": "stream",
     "text": [
      "Deseja adicionar um animal à lista (s/n)? s\n",
      "Digite o nome do animal: baleia\n",
      "Deseja adicionar um animal à lista (s/n)? s\n",
      "Digite o nome do animal: cão\n",
      "Deseja adicionar um animal à lista (s/n)? n\n",
      "['baleia', 'cão']\n"
     ]
    }
   ],
   "source": [
    "animais = []\n",
    "resposta = 's'\n",
    "while resposta == 's' or resposta == 'S':\n",
    "    resposta = input('Deseja adicionar um animal à lista (s/n)? ')\n",
    "    if (resposta == 's' or resposta == 'S'):\n",
    "        animal = input('Digite o nome do animal: ')\n",
    "        animais.append(animal) # adiciona o novo animal à lista\n",
    "print(animais)"
   ]
  },
  {
   "cell_type": "markdown",
   "id": "7c4f3a6e",
   "metadata": {},
   "source": [
    "A função lista.remove() deleta um elemento da lista. (mas dá erro se o elemento não existir)."
   ]
  },
  {
   "cell_type": "code",
   "execution_count": 29,
   "id": "114e58a8",
   "metadata": {},
   "outputs": [
    {
     "name": "stdout",
     "output_type": "stream",
     "text": [
      "Digite o animal a ser deletado da lista: cão\n",
      "['baleia']\n"
     ]
    }
   ],
   "source": [
    "animal = input('Digite o animal a ser deletado da lista: ')\n",
    "animais.remove(animal)\n",
    "print(animais)"
   ]
  },
  {
   "cell_type": "markdown",
   "id": "de12fe97",
   "metadata": {},
   "source": [
    "Algumas outras funções úteis:"
   ]
  },
  {
   "cell_type": "markdown",
   "id": "55197c51",
   "metadata": {},
   "source": [
    "* lista.count() conta quantas vezes um elemento aparece."
   ]
  },
  {
   "cell_type": "code",
   "execution_count": 30,
   "id": "512f4725",
   "metadata": {},
   "outputs": [
    {
     "name": "stdout",
     "output_type": "stream",
     "text": [
      "['Ronaldo', 'Rivaldo', 'Ronaldo', 'Adriano']\n",
      "Quantidade de Ronaldos:  2\n"
     ]
    }
   ],
   "source": [
    "jogadores = ['Ronaldo', 'Rivaldo', 'Ronaldo', 'Adriano']\n",
    "ronaldos = jogadores.count('Ronaldo')\n",
    "print(jogadores)\n",
    "print('Quantidade de Ronaldos: ', ronaldos)"
   ]
  },
  {
   "cell_type": "markdown",
   "id": "2d66c3dc",
   "metadata": {},
   "source": [
    "* lista.index() busca em um elemento e fala em qual posição ele aparece."
   ]
  },
  {
   "cell_type": "code",
   "execution_count": 32,
   "id": "a975b195",
   "metadata": {},
   "outputs": [
    {
     "name": "stdout",
     "output_type": "stream",
     "text": [
      "Rivaldo está na posição  1\n"
     ]
    }
   ],
   "source": [
    "rivaldo = jogadores.index('Rivaldo')\n",
    "print(\"Rivaldo está na posição \", rivaldo)"
   ]
  },
  {
   "cell_type": "markdown",
   "id": "c5de0706",
   "metadata": {},
   "source": [
    "* lista.sort() ordena uma lista."
   ]
  },
  {
   "cell_type": "code",
   "execution_count": null,
   "id": "4ce08f01",
   "metadata": {},
   "outputs": [],
   "source": [
    "jogadores.sort()\n",
    "print(\"jogadores em ordem alfabética: \", jogadores)"
   ]
  },
  {
   "cell_type": "markdown",
   "id": "587d5c6e",
   "metadata": {},
   "source": [
    "* As funções max(lista) e min(lista) obtém, respectivamente, o maior e o menor valor."
   ]
  },
  {
   "cell_type": "code",
   "execution_count": 33,
   "id": "bca25f7d",
   "metadata": {},
   "outputs": [
    {
     "name": "stdout",
     "output_type": "stream",
     "text": [
      "[3, 1, 4, 1, 5, 9, 2, 6, 5]\n",
      "Maior =  9 e menor =  1\n"
     ]
    }
   ],
   "source": [
    "digitos = [3, 1, 4, 1, 5, 9, 2, 6, 5]\n",
    "maior = max(digitos)\n",
    "menor = min(digitos)\n",
    "print(digitos)\n",
    "print(\"Maior = \", maior, \"e menor = \", menor)"
   ]
  },
  {
   "cell_type": "markdown",
   "id": "eba8ee28",
   "metadata": {},
   "source": [
    "**Tuplas**"
   ]
  },
  {
   "cell_type": "markdown",
   "id": "2eb6734c",
   "metadata": {},
   "source": [
    "A tupla não pode ser alterada, por dois motivos principais: 1) possui implementações especiais 2) é menor em questão de armazenamento."
   ]
  },
  {
   "cell_type": "code",
   "execution_count": 19,
   "id": "75e0e246",
   "metadata": {},
   "outputs": [
    {
     "name": "stdout",
     "output_type": "stream",
     "text": [
      "('Brasil', 'Argentina', 'China', 'Canadá', 'Japão') <class 'tuple'>\n",
      "('Brasil', 'Argentina', 'China', 'Canadá', 'Japão') <class 'tuple'>\n"
     ]
    }
   ],
   "source": [
    "#declarando uma tupla\n",
    "nomes_paises = ('Brasil', 'Argentina', 'China', 'Canadá', 'Japão')\n",
    "#ou\n",
    "nomes_paises1 = 'Brasil', 'Argentina', 'China', 'Canadá', 'Japão'\n",
    "\n",
    "print(nomes_paises, type(nomes_paises))\n",
    "print(nomes_paises1, type(nomes_paises1))"
   ]
  },
  {
   "cell_type": "code",
   "execution_count": 20,
   "id": "f4f14165",
   "metadata": {},
   "outputs": [
    {
     "name": "stdout",
     "output_type": "stream",
     "text": [
      "('São Paulo',) <class 'tuple'>\n"
     ]
    }
   ],
   "source": [
    "#declarando uma tupla de um elemento\n",
    "\n",
    "nome_estado = 'São Paulo',\n",
    "print(nome_estado, type(nome_estado))"
   ]
  },
  {
   "cell_type": "code",
   "execution_count": 21,
   "id": "c5cadc85",
   "metadata": {},
   "outputs": [
    {
     "name": "stdout",
     "output_type": "stream",
     "text": [
      "5\n"
     ]
    },
    {
     "data": {
      "text/plain": [
       "'Brasil'"
      ]
     },
     "execution_count": 21,
     "metadata": {},
     "output_type": "execute_result"
    }
   ],
   "source": [
    "# podemos usar tanto o 'len()', quanto a indexiação na tupla, assim como na lista\n",
    "print(len(nomes_paises))\n",
    "nomes_paises[0]"
   ]
  },
  {
   "cell_type": "code",
   "execution_count": 22,
   "id": "f5fbe56d",
   "metadata": {},
   "outputs": [
    {
     "name": "stdout",
     "output_type": "stream",
     "text": [
      "Brasil China Japão\n"
     ]
    }
   ],
   "source": [
    "# Usando o unpacking, pegar todos os valores em uma variável diferente\n",
    "\n",
    "b,a,c,ca,j = nomes_paises\n",
    "print(b,c,j)"
   ]
  },
  {
   "cell_type": "code",
   "execution_count": 23,
   "id": "216c602a",
   "metadata": {},
   "outputs": [
    {
     "name": "stdout",
     "output_type": "stream",
     "text": [
      "Brasil Argentina China Canadá Japão\n"
     ]
    }
   ],
   "source": [
    "#imprimindo os valores\n",
    "\n",
    "print(*nomes_paises)"
   ]
  },
  {
   "cell_type": "code",
   "execution_count": 25,
   "id": "64b9e3a7",
   "metadata": {},
   "outputs": [
    {
     "name": "stdout",
     "output_type": "stream",
     "text": [
      "7\n",
      "<class 'tuple'>\n"
     ]
    }
   ],
   "source": [
    "# Uma tupla é uma coleção de objetos que lembra muito as listas.\n",
    "\n",
    "# Ao invés de colchetes, usamos parênteses para declarar as tuplas:\n",
    "numeros = (1,2,3,5,7,11)\n",
    "\n",
    "# Podemos declarar sem parênteses também:\n",
    "numeros = 1,2,3,5,7,11\n",
    "\n",
    "# Para acessar um valor, utilizamos a mesma sintaxe das listas:\n",
    "print(numeros[4])\n",
    "print(type(numeros))"
   ]
  },
  {
   "cell_type": "code",
   "execution_count": 26,
   "id": "4f2b06ba",
   "metadata": {},
   "outputs": [
    {
     "name": "stdout",
     "output_type": "stream",
     "text": [
      "(3, 1, 4, 1, 5, 9, 2, 6, 5)\n",
      "[1, 6, 1, 8]\n",
      "O primeiro vale: 1 e o ultimo vale: 11\n"
     ]
    }
   ],
   "source": [
    "'''\n",
    "Porém, tuplas são imutáveis: não é possível adicionar ou modificar valores.\n",
    "Descomentar a linha abaixo provocará erro de execução:\n",
    "'''\n",
    "# numeros[4] = 8\n",
    "\n",
    "# Podemos gerar uma tupla a partir de uma lista...\n",
    "lista1 = [3, 1, 4, 1, 5, 9, 2, 6, 5]\n",
    "tupla1 = tuple(lista1)\n",
    "print(tupla1)\n",
    "\n",
    "# ...ou uma lista a partir de uma tupla:\n",
    "tupla2 = [1, 6, 1, 8]\n",
    "lista2 = list(tupla2)\n",
    "print(lista2)\n",
    "\n",
    "# Também pode-se usar o unpacking com uma tupla:\n",
    "a, b, c, d, e, f = numeros # \"desempacota\" a tupla numeros\n",
    "print(\"O primeiro vale:\", a, \"e o ultimo vale:\", f)"
   ]
  },
  {
   "cell_type": "markdown",
   "id": "4be00abf",
   "metadata": {},
   "source": [
    "### Aula 02 - Strings I"
   ]
  },
  {
   "cell_type": "markdown",
   "id": "c13b0fd2",
   "metadata": {},
   "source": [
    "As strings podem ser declaradas com aspas simples ou aspas duplas"
   ]
  },
  {
   "cell_type": "code",
   "execution_count": 35,
   "id": "308dc063",
   "metadata": {},
   "outputs": [
    {
     "name": "stdout",
     "output_type": "stream",
     "text": [
      "Google\n",
      "facebook\n"
     ]
    }
   ],
   "source": [
    "empresa_1 = 'Google'\n",
    "empresa_2 = 'facebook'\n",
    "print(empresa_1)\n",
    "print(empresa_2)"
   ]
  },
  {
   "cell_type": "code",
   "execution_count": 36,
   "id": "75e80a5a",
   "metadata": {},
   "outputs": [
    {
     "name": "stdout",
     "output_type": "stream",
     "text": [
      "Let's Code\n"
     ]
    }
   ],
   "source": [
    "#Quando o string contêm aspas simples usa-se aspas simples\n",
    "empresa_3 = \"Let's Code\"\n",
    "print(empresa_3)"
   ]
  },
  {
   "cell_type": "code",
   "execution_count": 39,
   "id": "f09c76b6",
   "metadata": {},
   "outputs": [
    {
     "name": "stdout",
     "output_type": "stream",
     "text": [
      "O professor disse: \"Hoje a pizza é por minha conta\"\n"
     ]
    }
   ],
   "source": [
    "# Também podemos cancelar a função da aspas como declaração de uma string usando a contra barra '/'\n",
    "frase = \"O professor disse: \\\"Hoje a pizza é por minha conta\\\"\"\n",
    "print(frase)"
   ]
  },
  {
   "cell_type": "markdown",
   "id": "f413406c",
   "metadata": {},
   "source": [
    "A contra barra também pode ser aplicada em outras ocasiões como a quebra de linha (\\n), tabulação (\\t) ou retorno"
   ]
  },
  {
   "cell_type": "code",
   "execution_count": 40,
   "id": "12670894",
   "metadata": {},
   "outputs": [
    {
     "name": "stdout",
     "output_type": "stream",
     "text": [
      "Google\n",
      "G\n"
     ]
    }
   ],
   "source": [
    "# No string também é possível acessar cada caractér de uma string\n",
    "print(empresa_1)\n",
    "print(empresa_1[0])"
   ]
  },
  {
   "cell_type": "code",
   "execution_count": 41,
   "id": "fa2b5125",
   "metadata": {},
   "outputs": [
    {
     "name": "stdout",
     "output_type": "stream",
     "text": [
      "Goo\n"
     ]
    }
   ],
   "source": [
    "#usando slincing\n",
    "print(empresa_1[:3])"
   ]
  },
  {
   "cell_type": "code",
   "execution_count": 1,
   "id": "d46b1921",
   "metadata": {},
   "outputs": [
    {
     "name": "stdout",
     "output_type": "stream",
     "text": [
      "['São Paulo', 'Belo Horizonte', 'Rio de Janeiro', 'Brasília']\n"
     ]
    }
   ],
   "source": [
    "#usando o split, como padrão o espaço para separa a string\n",
    "\n",
    "nomes_cidades = \"São Paulo, Belo Horizonte, Rio de Janeiro, Brasília\"\n",
    "nomes_cidades = nomes_cidades.split(', ')\n",
    "print(nomes_cidades)"
   ]
  },
  {
   "cell_type": "code",
   "execution_count": 3,
   "id": "91b20ace",
   "metadata": {},
   "outputs": [
    {
     "name": "stdout",
     "output_type": "stream",
     "text": [
      "                MENU PRINCIPAL            \n",
      "MENU PRINCIPAL\n"
     ]
    }
   ],
   "source": [
    "#Formatação das string usando o \n",
    "cabecalho = \"                MENU PRINCIPAL            \"\n",
    "print(cabecalho)\n",
    "print(cabecalho.strip())"
   ]
  },
  {
   "cell_type": "code",
   "execution_count": 7,
   "id": "12ecf3b3",
   "metadata": {},
   "outputs": [
    {
     "name": "stdout",
     "output_type": "stream",
     "text": [
      "Rio De Janeiro\n",
      "Rio de janeiro\n",
      "rio de janeiro\n",
      "RIO DE JANEIRO\n"
     ]
    }
   ],
   "source": [
    "nome_cidade = 'rIo DE jaNeirO'\n",
    "\n",
    "print(nome_cidade.title()) # cada palavra começará com a letra maiuscula e o resto minúscula\n",
    "print(nome_cidade.capitalize()) #Só a primeira palavra começará com a letra maiúscula\n",
    "print(nome_cidade.lower()) #todas as letras estarão em letras minúsculas\n",
    "print(nome_cidade.upper()) #todas as letras estarão em letras maiúsculas"
   ]
  },
  {
   "cell_type": "code",
   "execution_count": 9,
   "id": "e4098e43",
   "metadata": {},
   "outputs": [
    {
     "name": "stdout",
     "output_type": "stream",
     "text": [
      "Que cidade do Brasil é conhecida como cidade maravilhosa?RIO DE JANEIRO\n",
      "Boaaa!\n"
     ]
    }
   ],
   "source": [
    "#Uniformizar o input e o output das strings\n",
    "\n",
    "nome_cidade = input ('Que cidade do Brasil é conhecida como cidade maravilhosa?')\n",
    "nome_cidade = nome_cidade.strip() # Remove espaços excedentes\n",
    "while nome_cidade.lower() != 'rio de janeiro':\n",
    "    print('Tenta de novo, vai')\n",
    "    nome_cidade = input('Que cidade do Brasil é conhecida como cidade maravilhosa?')\n",
    "print('Boaaa!')"
   ]
  },
  {
   "cell_type": "code",
   "execution_count": 11,
   "id": "91cc9830",
   "metadata": {},
   "outputs": [
    {
     "name": "stdout",
     "output_type": "stream",
     "text": [
      "True\n"
     ]
    }
   ],
   "source": [
    "# Usando o in\n",
    "mensagem = 'Você viu o que Pietro disse ontem?'\n",
    "fui_citado = 'Pietro' in mensagem\n",
    "print(fui_citado)"
   ]
  },
  {
   "cell_type": "code",
   "execution_count": 12,
   "id": "835762b6",
   "metadata": {},
   "outputs": [
    {
     "name": "stdout",
     "output_type": "stream",
     "text": [
      "u\n",
      "m\n",
      "a\n"
     ]
    }
   ],
   "source": [
    "# Suponhamos que temos a seguinte string:\n",
    "\n",
    "frase = 'uma FRASE'\n",
    "\n",
    "# Podemos acessar individualmente cada caractere em uma frase.\n",
    "# A ideia é a mesma de acessar uma lista:\n",
    "print(frase[0])\n",
    "print(frase[1])\n",
    "print(frase[2])"
   ]
  },
  {
   "cell_type": "code",
   "execution_count": 13,
   "id": "f14f110b",
   "metadata": {},
   "outputs": [
    {
     "name": "stdout",
     "output_type": "stream",
     "text": [
      "A frase possui 9 caracteres\n"
     ]
    }
   ],
   "source": [
    "tamanho = len(frase)\n",
    "print(\"A frase possui\", tamanho, \"caracteres\")"
   ]
  },
  {
   "cell_type": "code",
   "execution_count": 14,
   "id": "3fa722b4",
   "metadata": {},
   "outputs": [
    {
     "ename": "IndentationError",
     "evalue": "unexpected indent (<ipython-input-14-df6e03a70865>, line 3)",
     "output_type": "error",
     "traceback": [
      "\u001b[1;36m  File \u001b[1;32m\"<ipython-input-14-df6e03a70865>\"\u001b[1;36m, line \u001b[1;32m3\u001b[0m\n\u001b[1;33m    frase[4] = 'C'\u001b[0m\n\u001b[1;37m    ^\u001b[0m\n\u001b[1;31mIndentationError\u001b[0m\u001b[1;31m:\u001b[0m unexpected indent\n"
     ]
    }
   ],
   "source": [
    "# Porém, strings são imutáveis: não podemos alterar caracteres individuais\n",
    "# A linha abaixo, se for descomentada, dará erro no programa:\n",
    " frase[4] = 'C'"
   ]
  },
  {
   "cell_type": "code",
   "execution_count": 15,
   "id": "acf2782b",
   "metadata": {},
   "outputs": [
    {
     "name": "stdout",
     "output_type": "stream",
     "text": [
      "['u', 'm', 'a', ' ', 'F', 'R', 'A', 'S', 'E']\n"
     ]
    }
   ],
   "source": [
    "# Podemos converter strings para listas:\n",
    "listafrase = list(frase)\n",
    "print(listafrase)"
   ]
  },
  {
   "cell_type": "code",
   "execution_count": 16,
   "id": "e03eef9f",
   "metadata": {},
   "outputs": [
    {
     "name": "stdout",
     "output_type": "stream",
     "text": [
      "u-pym-pya-py -pyF-pyR-pyA-pyS-pyE\n"
     ]
    }
   ],
   "source": [
    "# A função join() intercala cada elemento de uma lista com uma string.\n",
    "stringfinal = '-py'.join(listafrase)\n",
    "print(stringfinal)"
   ]
  },
  {
   "cell_type": "code",
   "execution_count": 17,
   "id": "490a4f41",
   "metadata": {},
   "outputs": [
    {
     "name": "stdout",
     "output_type": "stream",
     "text": [
      "uma FRASE\n"
     ]
    }
   ],
   "source": [
    "# Usar um join() com uma string vazia é útil para transformar a lista de volta\n",
    "# em string:\n",
    "stringfinal = ''.join(listafrase)\n",
    "print(stringfinal)"
   ]
  },
  {
   "cell_type": "code",
   "execution_count": 19,
   "id": "bcd2c930",
   "metadata": {},
   "outputs": [
    {
     "name": "stdout",
     "output_type": "stream",
     "text": [
      "Uma frase\n",
      "Uma Frase\n",
      "UMA FRASE\n",
      "uma frase\n",
      "uma CRASE\n",
      "String original: uma FRASE\n"
     ]
    }
   ],
   "source": [
    "# Existem algumas funções interessantes que retornam a string \"tratada\":\n",
    "s1 = frase.capitalize() # 1a letra maiúscula, restante minúscula\n",
    "s2 = frase.title() # todo início de palavra em maiúscula, resto minúscula\n",
    "s3 = frase.upper() # string inteira em maiúscula\n",
    "s4 = frase.lower() # string inteira em minúscula\n",
    "s5 = frase.replace('F', 'C') # substitui a primeira substring pela segunda\n",
    "\n",
    "print(s1)\n",
    "print(s2)\n",
    "print(s3)\n",
    "print(s4)\n",
    "print(s5)\n",
    "# Note que NENHUMA delas ALTERA a string original, elas sempre retornam\n",
    "# a string nova.\n",
    "print('String original:', frase)"
   ]
  },
  {
   "cell_type": "code",
   "execution_count": 20,
   "id": "3bb7d690",
   "metadata": {},
   "outputs": [
    {
     "name": "stdout",
     "output_type": "stream",
     "text": [
      "['uma', 'FRASE']\n",
      "['UM', ' FR', 'SE']\n"
     ]
    }
   ],
   "source": [
    "# Outra possibilidade com strings é quebrar a string em uma lista de substrings\n",
    "# Sempre que o caractere especificado é encontrado, a string é quebrada\n",
    "quebra1 = frase.split(' ') # quebra a frase no caractere espaço em branco\n",
    "quebra2 = s3.split('A') # quebra a frase em maiúsculas no caractere 'A'\n",
    "\n",
    "print(quebra1)\n",
    "print(quebra2)"
   ]
  },
  {
   "cell_type": "code",
   "execution_count": 22,
   "id": "09817994",
   "metadata": {},
   "outputs": [
    {
     "name": "stdout",
     "output_type": "stream",
     "text": [
      "uma\n",
      "FRASE\n"
     ]
    }
   ],
   "source": [
    "# Podemos inserir quebras de linha com '\\n'\n",
    "frase = 'uma\\nFRASE'\n",
    "print(frase)"
   ]
  },
  {
   "cell_type": "code",
   "execution_count": 23,
   "id": "51b485af",
   "metadata": {},
   "outputs": [
    {
     "name": "stdout",
     "output_type": "stream",
     "text": [
      "uma\n",
      "\tFRASE\n"
     ]
    }
   ],
   "source": [
    "# Podemos inserir tabulação com '\\t'\n",
    "frase = 'uma\\n\\tFRASE'\n",
    "print(frase)"
   ]
  },
  {
   "cell_type": "code",
   "execution_count": 25,
   "id": "2648e78e",
   "metadata": {},
   "outputs": [
    {
     "name": "stdout",
     "output_type": "stream",
     "text": [
      "uma\\FRASE\n"
     ]
    }
   ],
   "source": [
    "# Para conseguir representar a barra '\\', precisamos de 2 barras:\n",
    "frase = 'uma\\\\FRASE'\n",
    "print(frase)"
   ]
  },
  {
   "cell_type": "code",
   "execution_count": 47,
   "id": "dd354028",
   "metadata": {},
   "outputs": [
    {
     "data": {
      "text/plain": [
       "'59527788/0001-31'"
      ]
     },
     "execution_count": 47,
     "metadata": {},
     "output_type": "execute_result"
    }
   ],
   "source": [
    "# Podemos usar o replace para limpar nossos dados ou fazer correções\n",
    "cnpj = '59.527.788/0001-31'\n",
    "cnpj.replace('.', '')\n",
    "cnpj.replace('/', '')\n",
    "cnpj.replace('-', '')"
   ]
  },
  {
   "cell_type": "code",
   "execution_count": null,
   "id": "c288bef9",
   "metadata": {},
   "outputs": [],
   "source": [
    "zfill(14)"
   ]
  },
  {
   "cell_type": "markdown",
   "id": "786427e8",
   "metadata": {},
   "source": [
    "Clique [aqui](https://docs.python.org/3.8/library/stdtypes.html#str) para acessar a documentação de Strings do Python 3."
   ]
  },
  {
   "cell_type": "markdown",
   "id": "b1901061",
   "metadata": {},
   "source": [
    "### Aula 03 - Strings II"
   ]
  },
  {
   "cell_type": "code",
   "execution_count": 26,
   "id": "3efc1fae",
   "metadata": {},
   "outputs": [
    {
     "name": "stdout",
     "output_type": "stream",
     "text": [
      "Olá, Felipe\n"
     ]
    }
   ],
   "source": [
    "# Dois operadores aritméticos possuem um comportamento especial em strings:\n",
    "# Operador de soma (+): concatena (une) 2 strings.\n",
    "cumprimento = \"Olá, \"\n",
    "nome = 'Felipe'\n",
    "print(cumprimento + nome)"
   ]
  },
  {
   "cell_type": "code",
   "execution_count": 27,
   "id": "63867ef8",
   "metadata": {},
   "outputs": [
    {
     "name": "stdout",
     "output_type": "stream",
     "text": [
      "Olá, Olá, Olá, Olá, Olá, \n"
     ]
    }
   ],
   "source": [
    "# Operador de multiplicação (*): copia uma string 'n' vezes:\n",
    "print(cumprimento *5)"
   ]
  },
  {
   "cell_type": "code",
   "execution_count": 30,
   "id": "e85e20dc",
   "metadata": {},
   "outputs": [
    {
     "name": "stdout",
     "output_type": "stream",
     "text": [
      "Felipe tem 35 anos e 2 filhos\n"
     ]
    }
   ],
   "source": [
    "idade = 35\n",
    "n_filhos = 2\n",
    "print( nome + ' tem ' + str(idade) + ' anos e ' + str(n_filhos) + ' filhos' )"
   ]
  },
  {
   "cell_type": "markdown",
   "id": "71a163d6",
   "metadata": {},
   "source": [
    "**Formatação de strings** \\\n",
    "Uma última função interessante de strings é o .format() Para entender como ela funciona, podemos pensar em um contrato. É normal que ele venha com campos em branco para serem preenchidos posteriormente. O .format() serve para \"preencher\" os \"campos em branco\" de uma string. Os campos em branco serão representados por pares de chave: {}"
   ]
  },
  {
   "cell_type": "code",
   "execution_count": 31,
   "id": "bb682e3f",
   "metadata": {},
   "outputs": [
    {
     "name": "stdout",
     "output_type": "stream",
     "text": [
      "Felipe tem 35 anos e 2 filhos\n"
     ]
    }
   ],
   "source": [
    "#usando o exemplo da felipe com o método format\n",
    "print( '{} tem {} anos e {} filhos'.format(nome, idade, n_filhos) )"
   ]
  },
  {
   "cell_type": "code",
   "execution_count": 36,
   "id": "c94b0f8f",
   "metadata": {},
   "outputs": [
    {
     "name": "stdout",
     "output_type": "stream",
     "text": [
      "O preço da gasolina hoje subiu e está em R$3.14\n"
     ]
    }
   ],
   "source": [
    "#podemos delimitar o número de decímais printados usando opções especiais de formatação\n",
    "'''\n",
    ": indica que passaremos opções\n",
    ".2 indica apenas 2 casas após o ponto decimal\n",
    "f indica que é um float\n",
    "'''\n",
    "\n",
    "preço_gasolina = 3.14159265\n",
    "print('O preço da gasolina hoje subiu e está em R${:.2f}'.format(preço_gasolina))"
   ]
  },
  {
   "cell_type": "code",
   "execution_count": 35,
   "id": "ef038b28",
   "metadata": {},
   "outputs": [
    {
     "name": "stdout",
     "output_type": "stream",
     "text": [
      "Felipe tem 35 anos e 2 filhos.\n"
     ]
    }
   ],
   "source": [
    "# outra maneira de usar o format é usando apenas a letra f no formato:\n",
    "print(f'{nome} tem {idade} anos e {n_filhos} filhos.')"
   ]
  },
  {
   "cell_type": "code",
   "execution_count": 37,
   "id": "dd34816d",
   "metadata": {},
   "outputs": [
    {
     "name": "stdout",
     "output_type": "stream",
     "text": [
      "c, b and a\n",
      "abracadabra\n"
     ]
    }
   ],
   "source": [
    "# Pode-se chamar as variávies em diferentes ordens:\n",
    "\n",
    "print('{2}, {1} and {0}'.format('a', 'b', 'c'))\n",
    "\n",
    "\n",
    "print('{0}{1}{0}'.format('abra', 'cad'))\n"
   ]
  },
  {
   "cell_type": "code",
   "execution_count": 38,
   "id": "4fc8e0c0",
   "metadata": {},
   "outputs": [
    {
     "name": "stdout",
     "output_type": "stream",
     "text": [
      "1/8/2019\n"
     ]
    }
   ],
   "source": [
    "# Podemos especificar um número de dígitos obrigatório por campo.\n",
    "# Vejamos o exemplo:\n",
    "\n",
    "dia = 1\n",
    "mes = 8\n",
    "ano = 2019\n",
    "data1 = '{}/{}/{}'.format(dia, mes, ano)\n",
    "print(data1)\n",
    "\n",
    "# O dia e o mês ocupam apenas 1 espaço"
   ]
  },
  {
   "cell_type": "code",
   "execution_count": 39,
   "id": "475738a7",
   "metadata": {},
   "outputs": [
    {
     "name": "stdout",
     "output_type": "stream",
     "text": [
      " 1/ 8/2019\n"
     ]
    }
   ],
   "source": [
    "data2 = '{:2d}/{:2d}/{:4d}'.format(dia, mes, ano)\n",
    "# A opção 'd' significa que o parâmetro é um número inteiro.\n",
    "print(data2)\n",
    "# Agora, dia e mês ocupam obrigatoriamente 2 espaços:  1/ 8/2019"
   ]
  },
  {
   "cell_type": "code",
   "execution_count": 40,
   "id": "3e36d810",
   "metadata": {},
   "outputs": [
    {
     "name": "stdout",
     "output_type": "stream",
     "text": [
      "01/08/2019\n"
     ]
    }
   ],
   "source": [
    "# Podemos forçar que os espaços em branco sejam preenchidos com o número 0:\n",
    "data3 = '{:02d}/{:02d}/{:04d}'.format(dia, mes, ano)\n",
    "print(data3)\n",
    "# Agora sim a data está no formato usual, dd/mm/aaaa: 01/08/2019"
   ]
  },
  {
   "cell_type": "markdown",
   "id": "c6a3bd3a",
   "metadata": {},
   "source": [
    "O <code>.format()</code> possui muitas opções interessantes. Há um site inteiro dedicado a explicar e exemplificar todas essas opções: https://pyformat.info/"
   ]
  },
  {
   "cell_type": "markdown",
   "id": "48b4358e",
   "metadata": {},
   "source": [
    "### Aula 04 - Dicionários"
   ]
  },
  {
   "cell_type": "markdown",
   "id": "f830c40b",
   "metadata": {},
   "source": [
    "Um dicionário é uma coleção, assim como as listas e as tuplas. Porém, enquanto as tuplas eram indexadas por um índice, os dicionários são indexados por chaves. Todo elemento em um dicionário possui uma chave e um valor. Chaves tipicamente são strings, valores podem ser qualquer tipo de dado."
   ]
  },
  {
   "cell_type": "code",
   "execution_count": 48,
   "id": "2517c1d2",
   "metadata": {},
   "outputs": [
    {
     "name": "stdout",
     "output_type": "stream",
     "text": [
      "{'nome': 'São Paulo', 'Estado': 'São Paulo', 'Área': 1521, 'População': 12.18} <class 'dict'>\n"
     ]
    }
   ],
   "source": [
    "dados_cidade ={\n",
    "    'nome': 'São Paulo',\n",
    "    'Estado': 'São Paulo',\n",
    "    'Área': 1521,\n",
    "    'População': 12.18\n",
    "}\n",
    "\n",
    "print(dados_cidade,type(dados_cidade))"
   ]
  },
  {
   "cell_type": "code",
   "execution_count": 49,
   "id": "27edf4e7",
   "metadata": {},
   "outputs": [
    {
     "name": "stdout",
     "output_type": "stream",
     "text": [
      "{'nome': 'São Paulo', 'Estado': 'São Paulo', 'Área': 1521, 'População': 12.18, 'país': 'Brasil'}\n"
     ]
    }
   ],
   "source": [
    "# O dicionário não possui um \"append\".\n",
    "# podemos adicioner valores diretamente:\n",
    "dados_cidade['país'] = 'Brasil'\n",
    "print(dados_cidade)"
   ]
  },
  {
   "cell_type": "code",
   "execution_count": 50,
   "id": "6356e3f1",
   "metadata": {},
   "outputs": [
    {
     "name": "stdout",
     "output_type": "stream",
     "text": [
      "{'nome': 'São Paulo', 'Estado': 'São Paulo', 'Área': 1500, 'População': 12.18, 'país': 'Brasil'}\n"
     ]
    }
   ],
   "source": [
    "#Atualizar dados já inseridos anteriomente\n",
    "dados_cidade['Área'] = 1500\n",
    "print(dados_cidade)"
   ]
  },
  {
   "cell_type": "code",
   "execution_count": 51,
   "id": "53aae9ec",
   "metadata": {},
   "outputs": [
    {
     "name": "stdout",
     "output_type": "stream",
     "text": [
      "{'nome': 'Santos', 'Estado': 'São Paulo', 'Área': 1500, 'População': 12.18, 'país': 'Brasil'}\n",
      "{'nome': 'Santos', 'Estado': 'São Paulo', 'Área': 1500, 'População': 12.18, 'país': 'Brasil'}\n"
     ]
    }
   ],
   "source": [
    "#Pra usar copiar um dicionário já declarado, não podemos fazer assim:\n",
    "dados_cidade_2 = dados_cidade\n",
    "dados_cidade_2['nome'] = 'Santos'\n",
    "print(dados_cidade_2)\n",
    "print(dados_cidade)"
   ]
  },
  {
   "cell_type": "code",
   "execution_count": 52,
   "id": "48b72fca",
   "metadata": {},
   "outputs": [
    {
     "name": "stdout",
     "output_type": "stream",
     "text": [
      "{'nome': 'Santos', 'Estado': 'São Paulo', 'Área': 1500, 'População': 12.18, 'país': 'Brasil', 'estado': 'Rio de Janeiro'}\n"
     ]
    }
   ],
   "source": [
    "#Repare que a alteração também foi feita no dicionário dados_cidade, para isso usamos o copy()\n",
    "dados_cidade_3 = dados_cidade.copy()\n",
    "dados_cidade_3['estado'] = 'Rio de Janeiro'\n",
    "print(dados_cidade_3)"
   ]
  },
  {
   "cell_type": "code",
   "execution_count": 55,
   "id": "dfbc8dcc",
   "metadata": {},
   "outputs": [
    {
     "name": "stdout",
     "output_type": "stream",
     "text": [
      "{'nome': 'São Paulo', 'Estado': 'São Paulo', 'Área': 1500, 'População': 15, 'país': 'Brasil', 'fundação': '25/01/1554'}\n"
     ]
    }
   ],
   "source": [
    "# Posso usar um dicionário para atualizar outro dicionário\n",
    "\n",
    "novos_dados = {\n",
    "    'População':15,\n",
    "    'nome':'São Paulo',\n",
    "    'fundação': '25/01/1554'\n",
    "}\n",
    "\n",
    "dados_cidade.update(novos_dados)\n",
    "print(dados_cidade)"
   ]
  },
  {
   "cell_type": "code",
   "execution_count": 59,
   "id": "3b835d51",
   "metadata": {},
   "outputs": [
    {
     "name": "stdout",
     "output_type": "stream",
     "text": [
      "None\n",
      "1500\n"
     ]
    }
   ],
   "source": [
    "#Verificar quais chaves existem\n",
    "novos_dados.keys()\n",
    "#Verificar se uma chave específica existe\n",
    "print(dados_cidade.get('prefeito'))\n",
    "print(dados_cidade.get('Área'))"
   ]
  },
  {
   "cell_type": "code",
   "execution_count": 61,
   "id": "41b95e7e",
   "metadata": {},
   "outputs": [
    {
     "name": "stdout",
     "output_type": "stream",
     "text": [
      "dict_values(['São Paulo', 'São Paulo', 1500, 15, 'Brasil', '25/01/1554'])\n",
      "dict_items([('nome', 'São Paulo'), ('Estado', 'São Paulo'), ('Área', 1500), ('População', 15), ('país', 'Brasil'), ('fundação', '25/01/1554')])\n"
     ]
    }
   ],
   "source": [
    "#Transformando disciónario em lista e tupla\n",
    "print(dados_cidade.values()) # retorna uma lista de valores de um dicionário\n",
    "print(dados_cidade.items()) #retorna uma lista de tuplas (chave, valor) de um dicionário"
   ]
  },
  {
   "cell_type": "code",
   "execution_count": 69,
   "id": "cc109e16",
   "metadata": {},
   "outputs": [
    {
     "name": "stdout",
     "output_type": "stream",
     "text": [
      "Contém a chave país\n",
      "Contém a chave fundação\n",
      "Não contém a chave prefeito\n"
     ]
    }
   ],
   "source": [
    "# Podemos utilizar o operador \"in\" para verificar se uma chave existe:\n",
    "if 'país' in dados_cidade:\n",
    "    print('Contém a chave país')\n",
    "else: (print('Não contém a chave país') )\n",
    "if 'fundação' in dados_cidade:\n",
    "    print('Contém a chave fundação') \n",
    "else: (print('Não contém a chave fundação') )\n",
    "if 'prefeito' in dados_cidade:\n",
    "    print('Contém a chave prefeito') \n",
    "else: (print('Não contém a chave prefeito') )"
   ]
  },
  {
   "cell_type": "markdown",
   "id": "d495a5bd",
   "metadata": {},
   "source": [
    "### Aula 05 - Estruturas de Repetição - For"
   ]
  },
  {
   "cell_type": "code",
   "execution_count": 70,
   "id": "0389490f",
   "metadata": {},
   "outputs": [
    {
     "data": {
      "text/plain": [
       "['São Paulo', 'Belo Horizonte', 'Rio de Janeiro', 'Brasília']"
      ]
     },
     "execution_count": 70,
     "metadata": {},
     "output_type": "execute_result"
    }
   ],
   "source": [
    "nomes_cidades"
   ]
  },
  {
   "cell_type": "code",
   "execution_count": 71,
   "id": "00557547",
   "metadata": {},
   "outputs": [
    {
     "name": "stdout",
     "output_type": "stream",
     "text": [
      "São Paulo\n",
      "Belo Horizonte\n",
      "Rio de Janeiro\n",
      "Brasília\n"
     ]
    }
   ],
   "source": [
    "for nome in nomes_cidades:\n",
    "    print(nome)"
   ]
  },
  {
   "cell_type": "code",
   "execution_count": 73,
   "id": "46a5971a",
   "metadata": {},
   "outputs": [
    {
     "name": "stdout",
     "output_type": "stream",
     "text": [
      "São Paulo\n",
      "Belo Horizonte\n",
      "Rio de Janeiro\n",
      "Brasília\n"
     ]
    }
   ],
   "source": [
    "#comparando o exemplo anterior com o while\n",
    "contador = 0\n",
    "while contador< len(nomes_cidades):\n",
    "    print(nomes_cidades[contador])\n",
    "    contador = contador + 1"
   ]
  },
  {
   "cell_type": "code",
   "execution_count": 74,
   "id": "85310f16",
   "metadata": {},
   "outputs": [
    {
     "name": "stdout",
     "output_type": "stream",
     "text": [
      "São Paulo\n",
      "Belo Horizonte\n",
      "Rio de Janeiro\n",
      "Brasília\n"
     ]
    }
   ],
   "source": [
    "#usando o for em tupla\n",
    "nomes_cidades_em_tupla = 'São Paulo', 'Belo Horizonte', 'Rio de Janeiro', 'Brasília'\n",
    "for nome in nomes_cidades:\n",
    "    print(nome)"
   ]
  },
  {
   "cell_type": "code",
   "execution_count": 79,
   "id": "ab64e9ee",
   "metadata": {},
   "outputs": [
    {
     "name": "stdout",
     "output_type": "stream",
     "text": [
      "nome: São Paulo\n",
      "Estado: São Paulo\n",
      "Área: 1500\n",
      "População: 15\n",
      "país: Brasil\n",
      "fundação: 25/01/1554\n"
     ]
    }
   ],
   "source": [
    "#usando em um dicionário\n",
    "dados_cidade\n",
    "for chave in dados_cidade:\n",
    "    print (f'{chave}: {dados_cidade[chave]}')\n",
    "    "
   ]
  },
  {
   "cell_type": "code",
   "execution_count": 87,
   "id": "18ff029e",
   "metadata": {},
   "outputs": [
    {
     "name": "stdout",
     "output_type": "stream",
     "text": [
      "['Rio de Janeiro', 'Rio de Janeiro', 'Rio de Janeiro', 'Rio de Janeiro']\n"
     ]
    }
   ],
   "source": [
    "#alterando o valor na lista\n",
    "\n",
    "for posicao in range(len(nomes_cidades)):\n",
    "    nomes_cidades[posicao] = 'Rio de Janeiro'\n",
    "print(nomes_cidades)"
   ]
  },
  {
   "cell_type": "code",
   "execution_count": 91,
   "id": "5b04e244",
   "metadata": {},
   "outputs": [
    {
     "name": "stdout",
     "output_type": "stream",
     "text": [
      "[0, 1, 2, 3, 4, 5, 6, 7, 8, 9]\n",
      "[2, 3, 4, 5, 6, 7, 8, 9]\n",
      "[2, 4, 6, 8]\n"
     ]
    }
   ],
   "source": [
    "print(list(range(10))) #começa de 0 e vai até o 9\n",
    "print(list(range(2,10))) # inicia no 2 e termina no 9\n",
    "print(list(range(2, 10,2))) # incremento igual à 2, pula de 2 em dois no intervalo declarado"
   ]
  },
  {
   "cell_type": "code",
   "execution_count": null,
   "id": "0ec653e4",
   "metadata": {},
   "outputs": [],
   "source": [
    "#### arrumar\n",
    "Percorrendo coleções\n",
    "O for é um tipo especial de loop feito para percorrer elementos de uma coleção. Acima vimos exemplos usando um while e um contador para percorrer uma lista. O for elimina a necessidade de inicializarmos um contador, incrementarmos e verificar a condição de parada. Sintaxe:\n",
    "\n",
    "for (variável temporária) in (lista):\n",
    "    # instruções...\n",
    "    # ...\n",
    "O for se repete uma vez para cada elemento da lista. A cada repetição, a variável temporária assume o valor de um elemento da lista, na ordem da lista.\n",
    "\n",
    "fib = [1, 1, 2, 3, 5, 8, 13]\n",
    "for elemento in fib:\n",
    "    print(elemento)\n",
    "Percorrendo sequências numéricas\n",
    "O for pode ser usado, junto com a função range(), para gerar sequências numéricas e contagens. Existem 3 meios de usar o range(): especificando 1, 2 ou 3 parâmetros.\n",
    "\n",
    "# Com 1 parâmetro, ele será interpretado como valor final (exclusivo).\n",
    "# O valor inicial será 0 e o incremento será 1.\n",
    "\n",
    "for numero in range(10):\n",
    "    print(numero)\n",
    "    # este exemplo imprime os números de 0 a 9, de um em um\n",
    "\n",
    "# Com 2 parâmetros, o primeiro será o valor inicial (inclusivo) e o\n",
    "# segundo será o final (exclusivo).\n",
    "# O incremento continuará sendo 1.\n",
    "\n",
    "for numero in range(1,11):\n",
    "    print(numero)\n",
    "    # este exemplo imprime os números de 1 a 10, de um em um\n",
    "\n",
    "# Com 3 parâmetros, o terceiro será interpretado como incremento.\n",
    "for numero in range(1,20,2):\n",
    "    print(numero)\n",
    "    # este exemplo imprime os ímpares positivos menores do que 20\n",
    "    # ele começa valendo 1 e salta de 2 em 2 até atingir ou passar 20\n",
    "\n",
    "# O incremento pode ser também um decremento (incremento negativo).\n",
    "for numero in range (10,0,-1):\n",
    "    print(numero)\n",
    "    #Imprimindo os números de 1 a 10 em ordem decrescente"
   ]
  },
  {
   "cell_type": "markdown",
   "id": "81e40f07",
   "metadata": {},
   "source": [
    "### Aula 06 - Funções I"
   ]
  },
  {
   "cell_type": "markdown",
   "id": "c9f3440e",
   "metadata": {},
   "source": [
    "Funções são uma espécie de \"subprograma\". Elas são como pequenos pedacinhos de programa que podem ser chamadas pelo nome. Para criar uma função usamos o comando \"def\" e o nome da função. Elas são um bloco de comando assim como if/elif/else, while e for."
   ]
  },
  {
   "cell_type": "code",
   "execution_count": 92,
   "id": "7369a1fd",
   "metadata": {},
   "outputs": [],
   "source": [
    "def hello():\n",
    "    print(\"Olá, mundo!\")"
   ]
  },
  {
   "cell_type": "markdown",
   "id": "3fb511e8",
   "metadata": {},
   "source": [
    "Quando uma função é chamada pelo nome, o fluxo do programa é interrompido. Em seguida, a função inteira é executada, e ao final dela, o programa volta a ser executado do mesmo ponto que parou."
   ]
  },
  {
   "cell_type": "code",
   "execution_count": 93,
   "id": "3cb05ed2",
   "metadata": {},
   "outputs": [
    {
     "name": "stdout",
     "output_type": "stream",
     "text": [
      "Olá, mundo!\n"
     ]
    }
   ],
   "source": [
    "hello()"
   ]
  },
  {
   "cell_type": "markdown",
   "id": "dfdf328d",
   "metadata": {},
   "source": [
    "É possível passarmos informações para uma função. Chamamos essas informações de \"parâmetros\" ou \"argumentos. Na definição da função, daremos nome a esses parâmetros. Dentro da função, eles serão tratados como se fossem variáveis."
   ]
  },
  {
   "cell_type": "code",
   "execution_count": 101,
   "id": "effa4511",
   "metadata": {},
   "outputs": [],
   "source": [
    "def ola(nome):\n",
    "    print(\"Olá\", nome)"
   ]
  },
  {
   "cell_type": "markdown",
   "id": "1f759e4c",
   "metadata": {},
   "source": [
    "Ao chamarmos a nossa função, passamos os parâmetros entre parênteses. O nome ou valor passado não precisam ser iguais aos declarados na função! O nome do parâmetro interno da função é um \"apelido\" que a função dará para o valor ou variável que passamos."
   ]
  },
  {
   "cell_type": "code",
   "execution_count": 103,
   "id": "48cd504f",
   "metadata": {},
   "outputs": [
    {
     "name": "stdout",
     "output_type": "stream",
     "text": [
      "Olá Maria\n",
      "Olá João\n"
     ]
    }
   ],
   "source": [
    "ola(\"Maria\")\n",
    "\n",
    "aluno = \"João\"\n",
    "ola(aluno)"
   ]
  },
  {
   "cell_type": "markdown",
   "id": "942e57fa",
   "metadata": {},
   "source": [
    "A função pode receber vários parâmetros separados por vírgula."
   ]
  },
  {
   "cell_type": "code",
   "execution_count": 104,
   "id": "7d7b40a2",
   "metadata": {},
   "outputs": [
    {
     "name": "stdout",
     "output_type": "stream",
     "text": [
      "Seu nome é José, você tem 30 anos e mora em Maceió.\n"
     ]
    }
   ],
   "source": [
    "def dadosPessoais(nome, idade, cidade):\n",
    "    print(\"Seu nome é {}, você tem {} anos e mora em {}.\".format(nome, idade, cidade))\n",
    "\n",
    "dadosPessoais(\"José\", 30, \"Maceió\")"
   ]
  },
  {
   "cell_type": "markdown",
   "id": "fe789d80",
   "metadata": {},
   "source": [
    "Os parâmetros podem ser passados fora de ordem. Porém, para isso precisamos explicitar qual parâmetro estamos passando, para evitar ambiguidade ou erros de interpretação do Python"
   ]
  },
  {
   "cell_type": "code",
   "execution_count": 105,
   "id": "b9e1b816",
   "metadata": {},
   "outputs": [
    {
     "name": "stdout",
     "output_type": "stream",
     "text": [
      "Seu nome é Ana, você tem 56 anos e mora em Florianópolis.\n"
     ]
    }
   ],
   "source": [
    "dadosPessoais(idade=56, cidade=\"Florianópolis\", nome=\"Ana\")"
   ]
  },
  {
   "cell_type": "markdown",
   "id": "0624483b",
   "metadata": {},
   "source": [
    "**Funções com resposta**\n",
    "\n",
    "Uma função pode ter uma \"resposta\". Por exemplo, nossa função pode ser uma conta, e o resultado da conta pode ser útil em nosso programa. Dizemos que essas funções \"retornam\" um valor. Utilizamos a palavra \"return\" para fazer uma função retornar sua resposta. Quando uma função retorna um valor, ela pode ser usada em expressões matemáticas ou lógicas, ter seu valor atribuído a uma variável, etc."
   ]
  },
  {
   "cell_type": "code",
   "execution_count": 109,
   "id": "53fc75e3",
   "metadata": {},
   "outputs": [
    {
     "name": "stdout",
     "output_type": "stream",
     "text": [
      "A soma dos elementos da lista vale:  15\n",
      "Que soma pequena!\n"
     ]
    }
   ],
   "source": [
    "def somatorio(lista):\n",
    "    soma = 0\n",
    "    for item in lista:\n",
    "        soma = soma + item\n",
    "    return soma\n",
    "\n",
    "numeros = [1, 2, 3, 4, 5]\n",
    "soma_dos_numeros = somatorio(numeros)\n",
    "print(\"A soma dos elementos da lista vale: \", soma_dos_numeros)\n",
    "\n",
    "if somatorio(numeros) > 50:\n",
    "    print(\"Que soma grande!\")\n",
    "else:\n",
    "    print(\"Que soma pequena!\")"
   ]
  },
  {
   "cell_type": "code",
   "execution_count": 96,
   "id": "68e14036",
   "metadata": {},
   "outputs": [
    {
     "data": {
      "text/plain": [
       "9.333333333333334"
      ]
     },
     "execution_count": 96,
     "metadata": {},
     "output_type": "execute_result"
    }
   ],
   "source": [
    "#Criando uma função para fazer a média de três valores\n",
    "def calcula_media(v1,v2,v3):\n",
    "    soma = v1+v2+v3\n",
    "    media = soma/3\n",
    "    return media\n",
    "\n",
    "calcula_media(10,8,10)"
   ]
  },
  {
   "cell_type": "code",
   "execution_count": 98,
   "id": "e4d85b2c",
   "metadata": {},
   "outputs": [
    {
     "name": "stdout",
     "output_type": "stream",
     "text": [
      "7.333333333333333\n"
     ]
    }
   ],
   "source": [
    "resultado = calcula_media(10,8,4)\n",
    "print(resultado)"
   ]
  },
  {
   "cell_type": "code",
   "execution_count": 100,
   "id": "7998a6c4",
   "metadata": {},
   "outputs": [
    {
     "name": "stdout",
     "output_type": "stream",
     "text": [
      "Olá,\n",
      " Ana\n",
      "Olá, Ana\n"
     ]
    }
   ],
   "source": [
    "# declarando um parâmetro adicional no print\n",
    "\n",
    "print('Olá,')\n",
    "print(' Ana')\n",
    "\n",
    "\n",
    "print('Olá,', end = '')\n",
    "print(' Ana')"
   ]
  },
  {
   "cell_type": "code",
   "execution_count": 107,
   "id": "b7ed3ec6",
   "metadata": {},
   "outputs": [
    {
     "ename": "TypeError",
     "evalue": "calcula_media() missing 3 required positional arguments: 'v1', 'v2', and 'v3'",
     "output_type": "error",
     "traceback": [
      "\u001b[1;31m---------------------------------------------------------------------------\u001b[0m",
      "\u001b[1;31mTypeError\u001b[0m                                 Traceback (most recent call last)",
      "\u001b[1;32m<ipython-input-107-e84437b471c7>\u001b[0m in \u001b[0;36m<module>\u001b[1;34m\u001b[0m\n\u001b[1;32m----> 1\u001b[1;33m \u001b[0mresultado\u001b[0m \u001b[1;33m=\u001b[0m \u001b[0mcalcula_media\u001b[0m\u001b[1;33m(\u001b[0m\u001b[1;33m)\u001b[0m\u001b[1;33m\u001b[0m\u001b[1;33m\u001b[0m\u001b[0m\n\u001b[0m\u001b[0;32m      2\u001b[0m \u001b[0mprint\u001b[0m\u001b[1;33m(\u001b[0m\u001b[0mresultado\u001b[0m\u001b[1;33m)\u001b[0m\u001b[1;33m\u001b[0m\u001b[1;33m\u001b[0m\u001b[0m\n",
      "\u001b[1;31mTypeError\u001b[0m: calcula_media() missing 3 required positional arguments: 'v1', 'v2', and 'v3'"
     ]
    }
   ],
   "source": [
    "resultado = calcula_media()\n",
    "print(resultado)"
   ]
  },
  {
   "cell_type": "code",
   "execution_count": 108,
   "id": "adb8b4ab",
   "metadata": {},
   "outputs": [
    {
     "data": {
      "text/plain": [
       "0.0"
      ]
     },
     "execution_count": 108,
     "metadata": {},
     "output_type": "execute_result"
    }
   ],
   "source": [
    "# setaremos os valores padrões da minha função \n",
    "def calcula_media(v1=0,v2=0,v3=0):\n",
    "    soma = v1+v2+v3\n",
    "    media = soma/3\n",
    "    return media\n",
    "\n",
    "calcula_media()"
   ]
  },
  {
   "cell_type": "markdown",
   "id": "eae5560b",
   "metadata": {},
   "source": [
    "**Funções recursivas**\n",
    "\n",
    "Algumas funções são chamadas funções recursivas. A recursividade (ou recursão) é uma propriedade na qual uma função faz referência a si mesma. Quando a função encontra uma nova referência, ela irá pausar sua execução atual e iniciar a execução da nova instância, para só então retomar sua execução.\n",
    "\n",
    "Assim como nos loops, é necessário ter alguma condição para que as chamadas recursivas sejam interrompidas, evitando que executem para sempre."
   ]
  },
  {
   "cell_type": "code",
   "execution_count": 110,
   "id": "24b93c44",
   "metadata": {},
   "outputs": [
    {
     "name": "stdout",
     "output_type": "stream",
     "text": [
      "Testando a função recursiva:\n",
      "1\n",
      "2\n",
      "3\n",
      "4\n",
      "5\n",
      "6\n",
      "7\n",
      "8\n",
      "9\n",
      "10\n"
     ]
    }
   ],
   "source": [
    "def funcaoRecursiva(numero):\n",
    "    if (numero != 1):\n",
    "        funcaoRecursiva(numero - 1)\n",
    "    print(numero)\n",
    "\n",
    "print(\"Testando a função recursiva:\")\n",
    "funcaoRecursiva(10)"
   ]
  },
  {
   "cell_type": "markdown",
   "id": "40b21c2b",
   "metadata": {},
   "source": [
    "Note que no exemplo acima passamos 10 para a função. Sua execução foi interrompida por uma nova chamada passando 9, depois 8, depois 7... Ao chegar em 1, ele foge da condicional e imprime 1, encerrando a execução. Então a instância que recebeu 2 tambem conclui sua execução, depois a chamada 3, a 4... A 10, que foi a 1a chamada, encerra por último.\n",
    "\n",
    "Dizemos que é um comportamento de pilha - exatamente como uma pilha de pratos sobre a mesa: O primeiro prato que foi colocado sobre a mesa será o último a sair, pois todos os pratos colocados sobre ele precisam ser retirados antes de você poder retirar o último.\n",
    "\n",
    "Problemas recursivos normalmente são problemas do tipo \"dividir para conquistar\": Temos um \"caso base\", ou seja, um ou mais casos onde há uma resposta direta; E temos um \"caso geral\", que é uma versão reduzida do problema original."
   ]
  },
  {
   "cell_type": "markdown",
   "id": "0c4a6f59",
   "metadata": {},
   "source": [
    "### Aula 07 - Funções II"
   ]
  },
  {
   "cell_type": "markdown",
   "id": "6ca89942",
   "metadata": {},
   "source": [
    "**Agrupando parâmetros** \n",
    "\n",
    "Podemos utilizar o operador * - que, neste caso, não será uma multiplicação. Ao colocarmos o * ao lado do nome de um parâmetro na definição da função, estamos dizendo que aquele argumento será uma coleção. Mais especificamente, uma tupla. Porém, o usuário não irá passar uma tupla. Ele irá passar quantos argumentos ele quiser, e o Python automaticamente criará uma tupla com eles:"
   ]
  },
  {
   "cell_type": "code",
   "execution_count": 115,
   "id": "0de1be98",
   "metadata": {},
   "outputs": [
    {
     "name": "stdout",
     "output_type": "stream",
     "text": [
      "(10, 8, 9) <class 'tuple'>\n"
     ]
    }
   ],
   "source": [
    "#redefinindo nossa função calcula média com quantidade de argumentos indefinidas\n",
    "def calcula_media(*args):\n",
    "    print(args, type(args))\n",
    "    \n",
    "calcula_media(10, 8, 9)"
   ]
  },
  {
   "cell_type": "code",
   "execution_count": 117,
   "id": "42f8cac2",
   "metadata": {},
   "outputs": [
    {
     "data": {
      "text/plain": [
       "9.3"
      ]
     },
     "execution_count": 117,
     "metadata": {},
     "output_type": "execute_result"
    }
   ],
   "source": [
    "#Usando o tamanho da tupla para cálcular a média\n",
    "def calcula_media(*args, margem):\n",
    "    soma = sum(args)\n",
    "    media = soma/len(args)\n",
    "    return media + margem\n",
    "    \n",
    "calcula_media(10, 8, 9, margem = 0.3)"
   ]
  },
  {
   "cell_type": "code",
   "execution_count": 118,
   "id": "806aeb72",
   "metadata": {},
   "outputs": [
    {
     "name": "stdout",
     "output_type": "stream",
     "text": [
      "{'nome': 'Ana', 'sobrenome': 'Duarte'} <class 'dict'>\n"
     ]
    }
   ],
   "source": [
    "def print_info(**kwargs):\n",
    "    print(kwargs, type(kwargs))\n",
    "    \n",
    "print_info(nome='Ana', sobrenome='Duarte')"
   ]
  },
  {
   "cell_type": "code",
   "execution_count": null,
   "id": "a0ef5eff",
   "metadata": {},
   "outputs": [],
   "source": [
    "#### arrumar\n",
    "\n",
    "\n",
    "\n",
    "def piscina(*infos):\n",
    "    vol = infos[0]*infos[1]*infos[2]\n",
    "    return vol\n",
    "\n",
    "volume = piscina(5, 4, 5)\n",
    "\n",
    "print('O volume é: ', volume)\n",
    "Podemos utilizar o operador * na chamada da função também. Na definição, o operador * indica que devemos agrupar itens avulsos em uma coleção. Na chamada, ele indica que uma coleção deve ser expandida em itens avulsos:\n",
    "\n",
    "def piscina(prof, largura, comprimento):\n",
    "    vol = prof*largura*comprimento\n",
    "    return vol\n",
    "\n",
    "lista = [5, 4, 5]\n",
    "\n",
    "volume = piscina(*lista)\n",
    "\n",
    "print('O volume é: ', volume)\n",
    "Parâmetros opcionais\n",
    "Outra possibilidade são funções com parâmetros opcionais. Note que isso é diferente de termos quantidade variável de parâmetros. No caso da quantidade variável, normalmente são diversos parâmetros com a mesma utilidade (números a serem somados, valores a serem exibidos etc), enquanto os parâmetros opcionais são informações distintas que podem ou não ser passadas para a função.\n",
    "\n",
    "Para criar parâmetros opcionais, usaremos **, e os parâmetros passados serão agrupados em um dicionário: o nome do parâmetro será uma chave, e o valor será... O valor.\n",
    "\n",
    "def piscina(prof, **infos):\n",
    "    vol = prof*infos['largura']*infos['comprimento']\n",
    "    return vol\n",
    "\n",
    "volume = piscina(5, largura=4, comprimento=5)\n",
    "\n",
    "print('O volume é: ', volume)\n",
    "Analogamente ao caso dos parâmetros múltiplos, é possível que o usuário da função já tenha os dados organizados em um dicionário. Neste caso, basta usar ** na chamada da função para expandir o dicionário em vários parâmetros opcionais:\n",
    "\n",
    "def piscina(prof, largura=4, comprimento=5):\n",
    "    vol = prof*largura*comprimento\n",
    "    return vol\n",
    "\n",
    "infos = {'largura': 10, 'comprimento': 20}\n",
    "\n",
    "volume = piscina(5, **infos)\n",
    "\n",
    "print('O volume é: ', volume)"
   ]
  }
 ],
 "metadata": {
  "kernelspec": {
   "display_name": "Python 3",
   "language": "python",
   "name": "python3"
  },
  "language_info": {
   "codemirror_mode": {
    "name": "ipython",
    "version": 3
   },
   "file_extension": ".py",
   "mimetype": "text/x-python",
   "name": "python",
   "nbconvert_exporter": "python",
   "pygments_lexer": "ipython3",
   "version": "3.8.8"
  }
 },
 "nbformat": 4,
 "nbformat_minor": 5
}
