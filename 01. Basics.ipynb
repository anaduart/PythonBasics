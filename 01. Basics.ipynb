{
 "cells": [
  {
   "cell_type": "markdown",
   "id": "4fee6da4",
   "metadata": {},
   "source": [
    "## Python Basics da Let's Code"
   ]
  },
  {
   "cell_type": "markdown",
   "id": "01950a34",
   "metadata": {},
   "source": [
    "### Aula 1 - Por que Python?\n",
    "\n",
    "Característica de um programador: ser preguiçoso! 😂 Programamos para otimizar tarefas  chatas. \n",
    "\n",
    "Gabe Neil diz \"O computador é coisa mais estúpida do mundo.\" Como? Ele só faz uma atividade com sucesso, se  for especificado o passo a passo da atividade. O computador, diferente dos humanos, não tem instinto, comunicação não-verbal...\n",
    "\n",
    "Programamos em **Pyhton** já que é uma linguagem de sintaxe fácil, muito similar os inglês"
   ]
  },
  {
   "cell_type": "markdown",
   "id": "773acd41",
   "metadata": {},
   "source": [
    "### Aula 2 - Instalações\n",
    "\n",
    "**Instalando o Python no Windows**\n",
    "\n",
    "1. Site do Pyhton [pyhton.org] > Downloads.\n",
    "2. Baixar o instalador \n",
    "3. Marcar: pyhton 3.8 to path\n",
    "\n",
    "**Instalando o Python no Mac OS X**\n",
    "\n",
    "Comando para instalação do HomeBrew:\n",
    "\n",
    "```language\n",
    "/usr/bin/ruby -e \"$(curl -fsSL https://raw.githubusercontent.com/Homebrew/install/master/install)\"\n",
    "```\n",
    "\n",
    "**Instalando o Python no Linux (debian/ubuntu):**\n",
    "\n",
    "```console\n",
    "apt install python3 python3-pip\n",
    "```\n",
    "\n",
    "**Jupyter Notebook**\n",
    "\n",
    "Com o Python instalado, você já pode abrir o prompt de comando para digitar os seguintes comandos:\n",
    "\n",
    "- Para instalar o programa **Jupyter Notebook**, que utilizaremos para escrever nossos códigos Python:\n",
    "\n",
    "  ```python\n",
    "  pip install notebook\n",
    "  ```\n",
    "\n",
    "- Para garantir que estamos utilizando a versão mais recente do **Jupyter Notebook**:\n",
    "\n",
    "  ```python\n",
    "  pip install notebook --upgrade\n",
    "  ```\n",
    "\n",
    "- Para iniciar o programa **Jupyter Notebook**:\n",
    "\n",
    "  ```python\n",
    "  jupyter notebook\n",
    "  ```\n",
    "\n",
    "Ao exercutar este comando, uma janela deverá se abrir em seu navegador (Chrome, Firefox, Edge, etc) com o Jupyter Notebook (uma alternativa é copiar e colar a URL que aparece em seu prompt de comando).\n",
    "\n",
    "Apenas para dar uma pequena prévia, vamos criar um novo arquivo selecionando \"New\" e então \"Notebook: Python 3\" (nesse momento, você pode optar por selecionar alguma pasta do seu computador, como *Meus Documentos*, para que o novo arquivo seja criado dentro dela).\n",
    "\n",
    "Uma nova janela se abrirá. Essa janela é a interface de escrita para o arquivo que você acabou de criar.\n",
    "\n",
    "Como você pode ver, existe uma célula vazia nesse arquivo. Nós vamos clicar nela e escrever:\n",
    "\n",
    "```python\n",
    "print(\"Hello, World!\") \n",
    "```\n",
    "\n",
    "E, com essa célula selecionada, vamos clicar em \"Run\".\n",
    "\n",
    "Alguns comentários finais:\n",
    "\n",
    "1. Existe uma versão do Jupyter Notebook online. Basta entrar no [site](https://jupyter.org/) dele para testar.\n",
    "2. Existe ainda outra ferramenta online para escrever notebooks chamada *Google Colaboratory* (ou Colab), um serviço gratuito do Google que você pode acessar por [aqui](https://colab.research.google.com/) sem instalar nada em seu PC (nem mesmo o Python). Para utilizá-lo, basta fazer o login com uma conta do Google. Seus arquivos serão salvos no Google Drive dessa conta do mesmo modo que um Google Docs ou Google Spreadsheet.\n",
    "\n",
    "E é isso, acabou. Ou melhor, só está começando! A partir de agora você pode seguir para as próximas aulas para aprender cada vez mais.\n",
    "\n"
   ]
  },
  {
   "cell_type": "code",
   "execution_count": 53,
   "id": "2118c9e5",
   "metadata": {},
   "outputs": [
    {
     "name": "stdout",
     "output_type": "stream",
     "text": [
      "Hello, World!\n"
     ]
    }
   ],
   "source": [
    "print(\"Hello, World!\") "
   ]
  },
  {
   "cell_type": "markdown",
   "id": "39ceef70",
   "metadata": {},
   "source": [
    "### Aula 03 - Tipos de Variáveis\n",
    "\n",
    "**Variáveis**\n",
    "\n",
    "Variáveis são pedacinhos de memória onde armazenamos valores. Sempre que referenciamos o nome de uma variável, o valor é acessado. Definimos uma variável dando um nome a ela e usando o sinal de igual (=) para atribuir um valor.\n",
    "\n",
    "\n",
    "Note que o operador igual (=) NÃO possui o mesmo comportamento da matemática. Na matemática, ele é um operador bidirecional: x = 2y seria a mesma coisa que 2y = x. No Python, ele é o que chamamos de um operador de **ATRIBUIÇÃO**: A expressão à direita do sinal é resolvida e seu resultado é armazenado na variável à esquerda.\n"
   ]
  },
  {
   "cell_type": "code",
   "execution_count": 1,
   "id": "1e859fea",
   "metadata": {},
   "outputs": [],
   "source": [
    "x = 5"
   ]
  },
  {
   "cell_type": "code",
   "execution_count": 56,
   "id": "ecf35665",
   "metadata": {},
   "outputs": [
    {
     "name": "stdout",
     "output_type": "stream",
     "text": [
      "5\n"
     ]
    }
   ],
   "source": [
    "#mostrando o valor da variável x declarada que é igual à 5\n",
    "print(5)"
   ]
  },
  {
   "cell_type": "code",
   "execution_count": 11,
   "id": "13ae0675",
   "metadata": {},
   "outputs": [
    {
     "name": "stdout",
     "output_type": "stream",
     "text": [
      "<class 'int'> <class 'int'>\n"
     ]
    }
   ],
   "source": [
    "#Verificando o tipo da variável\n",
    "print(type(x))"
   ]
  },
  {
   "cell_type": "code",
   "execution_count": 6,
   "id": "755ee762",
   "metadata": {},
   "outputs": [
    {
     "name": "stdout",
     "output_type": "stream",
     "text": [
      "19.99 <class 'float'>\n"
     ]
    }
   ],
   "source": [
    "#Declarando um número decimal (float)\n",
    "preço = 19.99\n",
    "print(preço, type(preço))"
   ]
  },
  {
   "cell_type": "code",
   "execution_count": 7,
   "id": "9f3eeb3e",
   "metadata": {},
   "outputs": [
    {
     "name": "stdout",
     "output_type": "stream",
     "text": [
      "São Paulo <class 'str'>\n"
     ]
    }
   ],
   "source": [
    "#Declarando uma string (texto)\n",
    "cidade = \"São Paulo\"\n",
    "print(cidade, type(cidade))"
   ]
  },
  {
   "cell_type": "code",
   "execution_count": 10,
   "id": "2d62b9ee",
   "metadata": {},
   "outputs": [
    {
     "name": "stdout",
     "output_type": "stream",
     "text": [
      "True <class 'bool'>\n"
     ]
    }
   ],
   "source": [
    "#Declarando uma variável booleana (lógica)\n",
    "disponível = True\n",
    "print(disponível, type(disponível))"
   ]
  },
  {
   "cell_type": "code",
   "execution_count": 54,
   "id": "fc7bbd3d",
   "metadata": {},
   "outputs": [],
   "source": [
    "x = -10 # uma variável do tipo inteiro, sem casa decimal (int)\n",
    "y = 3.14 # uma variável do tipo real, com casa decimal (float)\n",
    "escola = \"Let's Code\" # uma variável literal (string)\n",
    "primeiraAula = True # uma variável lógica (booleana)"
   ]
  },
  {
   "cell_type": "markdown",
   "id": "bbc2b31f",
   "metadata": {},
   "source": [
    "**Comentários**\n",
    "\n"
   ]
  },
  {
   "cell_type": "code",
   "execution_count": 55,
   "id": "13adc759",
   "metadata": {},
   "outputs": [
    {
     "data": {
      "text/plain": [
       "'\\nO símbolo # é um comentário de apenas 1 linha.\\nUsando 3 aspas simples consecutivas é possível abrir um bloco de comentário\\nde múltiplas linhas. O bloco se encerra com outras 3 aspas simples.\\n'"
      ]
     },
     "execution_count": 55,
     "metadata": {},
     "output_type": "execute_result"
    }
   ],
   "source": [
    "# Linhas iniciadas com # são comentários.\n",
    "# Comentários são ignorados pelo Python e servem para explicar o código.\n",
    "\n",
    "'''\n",
    "O símbolo # é um comentário de apenas 1 linha.\n",
    "Usando 3 aspas simples consecutivas é possível abrir um bloco de comentário\n",
    "de múltiplas linhas. O bloco se encerra com outras 3 aspas simples.\n",
    "'''"
   ]
  },
  {
   "cell_type": "markdown",
   "id": "e6f6f14e",
   "metadata": {},
   "source": [
    "### Aula 04 - Operadores"
   ]
  },
  {
   "cell_type": "markdown",
   "id": "77bb70ac",
   "metadata": {},
   "source": [
    "**Operadores aritméticos**"
   ]
  },
  {
   "cell_type": "markdown",
   "id": "daf2c90b",
   "metadata": {},
   "source": [
    "* Soma (+)\n",
    "* Subtração (-)\n",
    "* Multiplicação(*)\n",
    "* Divisão (/ sempre resulta em uma saída do tipo float)\n",
    "\n",
    "* Potenciação (**)\n",
    "* Divisão inteira (// diferente da divisão, ela trunca, ignora, a parte decimal do resultado da divisão)  \n",
    "* Resto (% resto da divisão)\n",
    "\n",
    "Obs: Podemos fazer operações dentro ou fora do <code>print()</code>"
   ]
  },
  {
   "cell_type": "code",
   "execution_count": 13,
   "id": "2bac886a",
   "metadata": {},
   "outputs": [],
   "source": [
    "x = 50\n",
    "y = 2"
   ]
  },
  {
   "cell_type": "code",
   "execution_count": 27,
   "id": "82ce6c1a",
   "metadata": {},
   "outputs": [
    {
     "name": "stdout",
     "output_type": "stream",
     "text": [
      "Soma: 52\n",
      "Subtração: 48\n",
      "Multiplicação: 100\n",
      "Divisão: 25.0\n"
     ]
    }
   ],
   "source": [
    "print('Soma:',x + y)\n",
    "print('Subtração:',x - y)\n",
    "print('Multiplicação:',x * y)\n",
    "print('Divisão:', x / y)\n"
   ]
  },
  {
   "cell_type": "code",
   "execution_count": 26,
   "id": "e75cf922",
   "metadata": {},
   "outputs": [
    {
     "name": "stdout",
     "output_type": "stream",
     "text": [
      "Potência: 2500\n",
      "Divisão inteira: 25\n",
      "Resto de divisão: 0\n"
     ]
    }
   ],
   "source": [
    "print('Potência:', x ** y)\n",
    "print('Divisão inteira:', x // y)\n",
    "print('Resto de divisão:',x % y)"
   ]
  },
  {
   "cell_type": "code",
   "execution_count": 16,
   "id": "b5577f36",
   "metadata": {},
   "outputs": [
    {
     "name": "stdout",
     "output_type": "stream",
     "text": [
      "0.75\n",
      "0\n"
     ]
    }
   ],
   "source": [
    "print(3 / 4)\n",
    "print(3 // 4)"
   ]
  },
  {
   "cell_type": "markdown",
   "id": "bf8c8cd9",
   "metadata": {},
   "source": [
    "Também é possível fazer algumas operações com variáveis não inteiras"
   ]
  },
  {
   "cell_type": "code",
   "execution_count": 28,
   "id": "4cd603a7",
   "metadata": {},
   "outputs": [
    {
     "name": "stdout",
     "output_type": "stream",
     "text": [
      "Digite seu primeiro nome:Ana\n",
      "Ana Schmitt\n"
     ]
    }
   ],
   "source": [
    "nome = input('Digite seu primeiro nome: ')\n",
    "nome = nome + ' Schmitt'\n",
    "print(nome)"
   ]
  },
  {
   "cell_type": "markdown",
   "id": "bd7c9f20",
   "metadata": {},
   "source": [
    "**Operadores lógicos**\n",
    "\n",
    "Em alguns casos também precisamos testar se duas ou mais condições são verdadeiras. Para isso utilizaremos as conjunções lógicas, que funcionam sobre expressões booleanas:\n",
    "\n",
    "* **not** inverte o valor lógico\n",
    "      Exemplo: Falso, se condição for verdadeira\n",
    "* **and** compõe mais de uma operação lógica, que resulta verdadeiro (true) se todas as condições forem verdadeiras (true)\n",
    "      Exemplo: verdadeiro, se condição 1 for verdadeira e condição 2 for verdadeira\n",
    "* **or** compõe mais de uma operação lógica, que resulta em verdadeiro (true) se pelo menos uma das condições foram verdadeiras (true)\n",
    "      Exemplo: verdadeiro se condição 1 for verdadeira ou condição 2 for verdadeira"
   ]
  },
  {
   "cell_type": "code",
   "execution_count": 17,
   "id": "60b2a13b",
   "metadata": {},
   "outputs": [],
   "source": [
    "tem_café = True\n",
    "tem_pão = False"
   ]
  },
  {
   "cell_type": "code",
   "execution_count": 21,
   "id": "9a8a134a",
   "metadata": {},
   "outputs": [
    {
     "name": "stdout",
     "output_type": "stream",
     "text": [
      "False\n",
      "False\n",
      "True\n"
     ]
    }
   ],
   "source": [
    "print(not tem_café)\n",
    "print(tem_café and tem_pão)\n",
    "print(tem_café or tem_pão)"
   ]
  },
  {
   "cell_type": "markdown",
   "id": "99818ffd",
   "metadata": {},
   "source": [
    "Veja no exemplo abaixo, usando números, o resultado é verdadeiro para comparacao1 e falso para comparacao2."
   ]
  },
  {
   "cell_type": "code",
   "execution_count": 31,
   "id": "6db4d07c",
   "metadata": {},
   "outputs": [
    {
     "name": "stdout",
     "output_type": "stream",
     "text": [
      "True\n",
      "False\n"
     ]
    }
   ],
   "source": [
    "comparacao1 = 5 > 3 and 6 > 3\n",
    "comparacao2 = 5 < 3 and 6 > 3\n",
    "\n",
    "print(comparacao1)\n",
    "print(comparacao2)"
   ]
  },
  {
   "cell_type": "markdown",
   "id": "bb825d7a",
   "metadata": {},
   "source": [
    "Já no exemplo seguinte, tanto comparacao1 quanto comparacao2 retornam o valor verdadeiro."
   ]
  },
  {
   "cell_type": "code",
   "execution_count": 33,
   "id": "1d1f35ef",
   "metadata": {},
   "outputs": [
    {
     "name": "stdout",
     "output_type": "stream",
     "text": [
      "True\n",
      "True\n"
     ]
    }
   ],
   "source": [
    "comparacao1 = 5 > 3 or 6 > 3\n",
    "comparacao2 = 5 < 3 or 6 > 3\n",
    "\n",
    "print(comparacao1)\n",
    "print(comparacao2)"
   ]
  },
  {
   "cell_type": "markdown",
   "id": "370bb8d1",
   "metadata": {},
   "source": [
    "Também é possível negar uma expressão lógica usando o not. Em outras palavras, se comparacao1 = 5 > 3 é verdadeira, comparacao1 = not(5 > 3) será falsa, e vice-versa"
   ]
  },
  {
   "cell_type": "code",
   "execution_count": 34,
   "id": "d095df20",
   "metadata": {},
   "outputs": [
    {
     "name": "stdout",
     "output_type": "stream",
     "text": [
      "True\n",
      "False\n"
     ]
    }
   ],
   "source": [
    "comparacao1 = 5 > 3\n",
    "print(comparacao1)\n",
    "print(not comparacao1)"
   ]
  },
  {
   "cell_type": "markdown",
   "id": "2d572b44",
   "metadata": {},
   "source": [
    "#### Operadores relacionais"
   ]
  },
  {
   "cell_type": "markdown",
   "id": "942fe0c6",
   "metadata": {},
   "source": [
    "Utilizados para comparar dois valores.\n",
    "\n",
    "O Python possui 6 operadores relacionais:\n",
    "\n",
    "* Maior que: >\n",
    "* Maior ou igual: >=\n",
    "* Menor que: <\n",
    "* Menor ou igual: <=\n",
    "* Igual: ==\n",
    "* Diferente: !=\n",
    "\n",
    "\n",
    "Note que o operador para comparar se 2 valores são iguais é ==, e não =. Isso ocorre porque o operador = é o nosso operador de atribuição: ele diz que a variável à sua esquerda deve receber o valor da expressão à direita. O operador == irá testar se o valor à sua esquerda é igual ao valor à sua direita e irá responder True ou False, como todos os outros operadores de comparação."
   ]
  },
  {
   "cell_type": "code",
   "execution_count": 22,
   "id": "137bb18f",
   "metadata": {},
   "outputs": [],
   "source": [
    "dolar = 5.3\n",
    "real = 1"
   ]
  },
  {
   "cell_type": "code",
   "execution_count": 25,
   "id": "25dda983",
   "metadata": {},
   "outputs": [
    {
     "name": "stdout",
     "output_type": "stream",
     "text": [
      "True\n",
      "False\n",
      "False\n",
      "True\n",
      "False\n",
      "True\n"
     ]
    }
   ],
   "source": [
    "print(dolar > real)\n",
    "print(dolar < real)\n",
    "print(dolar == real)\n",
    "print(dolar >= real)\n",
    "print(dolar <= real)\n",
    "print(dolar != real)"
   ]
  },
  {
   "cell_type": "markdown",
   "id": "576083f0",
   "metadata": {},
   "source": [
    "### Aula 05 - Estruturas Sequenciais"
   ]
  },
  {
   "cell_type": "markdown",
   "id": "ed7febc9",
   "metadata": {},
   "source": [
    "**Outputs**\n",
    "\n",
    "Chamamos de saídas ou outputs do nosso programa todos os dados que são gerados pelo programa e fornecidos para o usuário.\n",
    "Já conhecemos a função <code>print()</code> que recebe um valor ou uma sequência de valores e realiza a tarefa de imprimí-los na tela."
   ]
  },
  {
   "cell_type": "code",
   "execution_count": 39,
   "id": "19e28321",
   "metadata": {},
   "outputs": [
    {
     "name": "stdout",
     "output_type": "stream",
     "text": [
      "eu estudo na  Let's Code\n",
      "pi vale 3.14\n",
      "4.140000000000001 9.8596\n"
     ]
    }
   ],
   "source": [
    "y = 3.14 # uma variável do tipo real (float)\n",
    "escola = \"Let's Code\" # uma variável literal (string)\n",
    "\n",
    "# Podemos exibir textos na tela e/ou valores de variáveis com a função print().\n",
    "print('eu estudo na ', escola)\n",
    "print('pi vale', y)\n",
    "\n",
    "# Podemos fazer operações dentro do print:\n",
    "print (y+1, y**2)"
   ]
  },
  {
   "cell_type": "markdown",
   "id": "943619cd",
   "metadata": {},
   "source": [
    "**Inputs**\n",
    "\n",
    "Já as entradas ou inputs do nosso programa são as informações que o usuário possui e deve fornecer ao código.\n",
    "<code>input</code> lembrando que o valor inputado pelo usuário sempre será do tipo string."
   ]
  },
  {
   "cell_type": "code",
   "execution_count": 36,
   "id": "a35262e4",
   "metadata": {},
   "outputs": [
    {
     "name": "stdout",
     "output_type": "stream",
     "text": [
      "informe a sua idade: 24\n",
      "24 <class 'str'>\n"
     ]
    }
   ],
   "source": [
    "idade = input('informe a sua idade: ')\n",
    "print(idade, type(idade))"
   ]
  },
  {
   "cell_type": "code",
   "execution_count": 37,
   "id": "92efd0fa",
   "metadata": {},
   "outputs": [
    {
     "name": "stdout",
     "output_type": "stream",
     "text": [
      "24 <class 'int'>\n"
     ]
    }
   ],
   "source": [
    "#Convendo o valor para inteiro, sempre que for passível de ser inteiro\n",
    "idade = int(idade)\n",
    "print(idade, type(idade))"
   ]
  },
  {
   "cell_type": "code",
   "execution_count": 38,
   "id": "9438d390",
   "metadata": {},
   "outputs": [
    {
     "name": "stdout",
     "output_type": "stream",
     "text": [
      "123.25\n",
      "123.25\n",
      "False\n",
      "True\n",
      "False\n",
      "True\n"
     ]
    }
   ],
   "source": [
    "print(float('123.25'))\n",
    "print(str(123.25))\n",
    "print(bool(''))\n",
    "print(bool('adc'))\n",
    "print(bool(0))\n",
    "print(bool(-2))"
   ]
  },
  {
   "cell_type": "code",
   "execution_count": 42,
   "id": "418d7377",
   "metadata": {},
   "outputs": [
    {
     "name": "stdout",
     "output_type": "stream",
     "text": [
      "Digite o valor do seu salário mensal: 20000\n",
      "Digite o valor do seu gasto mensal em média: 4000\n",
      "omontante que você pode economizar ao fim do ano é de 192000.0\n"
     ]
    }
   ],
   "source": [
    "salario_mensal = input('Digite o valor do seu salário mensal: ')\n",
    "salario_mensal = float(salario_mensal)\n",
    "\n",
    "gasto_mensal = input('Digite o valor do seu gasto mensal em média: ')\n",
    "gasto_mensal = float(gasto_mensal)\n",
    "\n",
    "salario_total = salario_mensal *12\n",
    "gasto_total = gasto_mensal * 12\n",
    "\n",
    "montante_economizado = salario_total - gasto_total\n",
    "print('O montante que você pode economizar ao fim do ano é de', montante_economizado)"
   ]
  },
  {
   "cell_type": "markdown",
   "id": "95842c5a",
   "metadata": {},
   "source": [
    "### Aula 06 - Estruturas Condicionais"
   ]
  },
  {
   "cell_type": "markdown",
   "id": "ffc5954a",
   "metadata": {},
   "source": [
    "**If**\n",
    "\n",
    "O if testa uma condição: \n",
    "    se ela for verdadeira, seu conteúdo é executado;\n",
    "    caso contrário, seu conteúdo é ignorado.\n",
    "    \n",
    "\n",
    "*identação:* Utilizamos um 'tab' antes de cada linha pertencente ao if. No exemplo acima, a linha 'obrigado por participar' sempre será exibida. Já a linha 'Você pode entrar na montanha russa.' só será exibida se a idade digitada for maior ou igual a 12 e a altura digitada for maior ou igual a 1.60.\n"
   ]
  },
  {
   "cell_type": "code",
   "execution_count": 63,
   "id": "87781099",
   "metadata": {},
   "outputs": [
    {
     "name": "stdout",
     "output_type": "stream",
     "text": [
      "Digite sua idade:24\n",
      "Você pode entrar na montanha russa.\n",
      "Obrigado por participar.\n",
      "Digite sua altura, em metros:1.60\n",
      "Você pode entrar na montanha russa.\n",
      "Obrigado por participar.\n"
     ]
    }
   ],
   "source": [
    "idade = int(input('Digite sua idade:'))\n",
    "if idade >= 12:\n",
    "    print('Você pode entrar na montanha russa.')\n",
    "print('Obrigado por participar.')\n",
    "\n",
    "#adicionando outra condição para participar da motanha russa\n",
    "altura = float(input('Digite sua altura, em metros:'))\n",
    "if idade >= 12 and altura >= 1.60:\n",
    "    print('Você pode entrar na montanha russa.')\n",
    "print('Obrigado por participar.')"
   ]
  },
  {
   "cell_type": "code",
   "execution_count": 64,
   "id": "7dd2e9b5",
   "metadata": {},
   "outputs": [
    {
     "name": "stdout",
     "output_type": "stream",
     "text": [
      "Qual é o valor da corrida?22\n",
      "Pegue o ônibus\n"
     ]
    }
   ],
   "source": [
    "#Exemplo da decisão de pegar uber ou ônibus\n",
    "valor_passagem = 4.30\n",
    "valor_corrida = input('Qual é o valor da corrida?')\n",
    "\n",
    "if float(valor_corrida) <= valor_passagem * 5:\n",
    "    print('Pegue a corrida')\n",
    "if float(valor_corrida) > valor_passagem * 5:\n",
    "    print('Pegue o ônibus')"
   ]
  },
  {
   "cell_type": "markdown",
   "id": "27ab12df",
   "metadata": {},
   "source": [
    "**Else**\n",
    "Em alguns casos, queremos que o programa escolha entre 2 casos mutuamente exclusivos. Para isso utilizamos o <code>else</code>. O <code>else</code> não possui condição para verificar. O <code>else</code> sempre vem imediatamente após um <code>if</code> e é executado se o <code>if</code> for ignorado.\n",
    "\n",
    "    "
   ]
  },
  {
   "cell_type": "code",
   "execution_count": 65,
   "id": "38523059",
   "metadata": {},
   "outputs": [
    {
     "name": "stdout",
     "output_type": "stream",
     "text": [
      "Digite sua idade:8\n",
      "Digite sua altura, em metros:160\n",
      "Você não pode entrar na montanha russa.\n",
      "Obrigado por participar.\n"
     ]
    }
   ],
   "source": [
    "idade = int(input('Digite sua idade:'))\n",
    "altura = float(input('Digite sua altura, em metros:'))\n",
    "if idade >= 12 and altura >= 1.60:\n",
    "    print('Você pode entrar na montanha russa.')\n",
    "else:\n",
    "    print('Você não pode entrar na montanha russa.')\n",
    "print('Obrigado por participar.')"
   ]
  },
  {
   "cell_type": "markdown",
   "id": "91adefef",
   "metadata": {},
   "source": [
    "É possível \"aninhar\" diversos if's e else's. O programa abaixo só deixa a pessoa entrar no brinquedo se tiver idade e altura mínimas:\n"
   ]
  },
  {
   "cell_type": "code",
   "execution_count": 67,
   "id": "46a62495",
   "metadata": {},
   "outputs": [
    {
     "name": "stdout",
     "output_type": "stream",
     "text": [
      "Digite sua idade:12\n",
      "Você gostaria de entrar nesta montanha russa?sim\n",
      "Por favor, entre!\n"
     ]
    }
   ],
   "source": [
    "idade = int(input('Digite sua idade:'))\n",
    "if idade >= 12:\n",
    "    resposta = input('Você gostaria de entrar nesta montanha russa?')\n",
    "    if (resposta == 'sim'):\n",
    "        print('Por favor, entre!')\n",
    "    else:\n",
    "        print('Ok então')\n",
    "else:\n",
    "    print('Você não tem idade suficiente para entrar nesse brinquedo.')"
   ]
  },
  {
   "cell_type": "code",
   "execution_count": 43,
   "id": "70b5256f",
   "metadata": {},
   "outputs": [
    {
     "name": "stdout",
     "output_type": "stream",
     "text": [
      "Qual é o valor da corrida?17\n",
      "Pegue a corrida\n"
     ]
    }
   ],
   "source": [
    "# O exemplo do uber vs ônibus, escrito anteriomente, pode ser escrito também assim:\n",
    "valor_passagem = 4.30\n",
    "valor_corrida = input('Qual é o valor da corrida?')\n",
    "\n",
    "if float(valor_corrida) <= valor_passagem * 5:\n",
    "    print('Pegue a corrida')\n",
    "else:\n",
    "    print('Pegue o ônibus')"
   ]
  },
  {
   "cell_type": "code",
   "execution_count": 45,
   "id": "a0ad3b7d",
   "metadata": {},
   "outputs": [
    {
     "name": "stdout",
     "output_type": "stream",
     "text": [
      "Qual é o valor da corrida?23\n",
      "Aguarde um momento, o valor pode abaixar\n"
     ]
    }
   ],
   "source": [
    "#adicionando outras condições \n",
    "valor_passagem = 4.30\n",
    "\n",
    "valor_corrida = input('Qual é o valor da corrida?')\n",
    "\n",
    "if float(valor_corrida) <= valor_passagem * 5:\n",
    "    print('Pague a corrida')\n",
    "else:\n",
    "    if float(valor_corrida) <= valor_passagem * 6:\n",
    "        print('Aguarde um momento, o valor pode abaixar')\n",
    "    else:\n",
    "        print('Pegue o ônibus')\n",
    "    "
   ]
  },
  {
   "cell_type": "markdown",
   "id": "50535aac",
   "metadata": {},
   "source": [
    "**Elif**\n",
    "\n",
    "Podemos testar diversos casos mutuamente exclusivos utilizando o <code>elif</code>.\n",
    "\n",
    "O comando <code>elif</code> é a contração de \"else if\" - ou seja, caso um if não seja executado, você pode propor uma nova condição para ser testada."
   ]
  },
  {
   "cell_type": "code",
   "execution_count": 70,
   "id": "d4942640",
   "metadata": {},
   "outputs": [
    {
     "name": "stdout",
     "output_type": "stream",
     "text": [
      "Quantos exercícios de Python vc já fez?50\n",
      "Já está ficando profissional!\n"
     ]
    }
   ],
   "source": [
    "exercicios = int(input('Quantos exercícios de Python vc já fez?'))\n",
    "\n",
    "if exercicios > 30:\n",
    "    print('Já está ficando profissional!')\n",
    "elif exercicios > 20:\n",
    "    print('Tá indo bem, bora fazer mais alguns!')\n",
    "elif exercicios > 10:\n",
    "    print('Vamos tirar o atraso?')\n",
    "else:\n",
    "    print('Xiiii...')"
   ]
  },
  {
   "cell_type": "code",
   "execution_count": 48,
   "id": "5ab5f395",
   "metadata": {},
   "outputs": [
    {
     "name": "stdout",
     "output_type": "stream",
     "text": [
      "Qual é o valor da corrida?23\n",
      "Aguarde um momento, o valor pode abaixar\n"
     ]
    }
   ],
   "source": [
    "#Podemos escrever o exemplo do uber vs ônibus com o elif\n",
    "#elif nega a condição anterior e testa uma nova condição\n",
    "\n",
    "valor_passagem = 4.30\n",
    "\n",
    "valor_corrida = input('Qual é o valor da corrida?')\n",
    "\n",
    "if float(valor_corrida) <= valor_passagem * 5:\n",
    "    print('Pague a corrida')\n",
    "elif float(valor_corrida) <= valor_passagem * 6:\n",
    "     print('Aguarde um momento, o valor pode abaixar')\n",
    "else:\n",
    "     print('Pegue o ônibus')\n",
    "    "
   ]
  },
  {
   "cell_type": "markdown",
   "id": "e7f1c425",
   "metadata": {},
   "source": [
    "### Aula 07 - Estruturas de Repetição"
   ]
  },
  {
   "cell_type": "markdown",
   "id": "b10d0113",
   "metadata": {},
   "source": [
    "**While**\n",
    "\n",
    "O while é bastante parecido com um <code>if</code>: ele possui uma expressão e é executado sempre que for verdadeira. A diferença é que o <code>if</code> é executado apenas uma vez e depois o código segue adiante, no caso no <code>while</code> ao final de sua execução, ele torna a testar a expressão, e caso ela seja verdadeira, ele repete sua execução.\n",
    "\n",
    "\n",
    "*Contador:* uma variável com um valor declarado, muitas vezes condicionando o while à esse contador. Utilizado em exemplos que é preciso expecificar a quantidade em que o while precisa ser executado.\\\n",
    "*Incremento:* Atualiza o contador acrescentando um valor.\\\n",
    "*Loop infinito:* Quando a condição declarada para sair do while nunca for atingida.\n"
   ]
  },
  {
   "cell_type": "markdown",
   "id": "32a56175",
   "metadata": {},
   "source": [
    "**Contador**\n",
    "\n",
    "Todo tipo de código que deve se repetir várias vezes pode ser feito com o while, como somar vários valores, gerar uma sequência etc. Nestes casos, é normal utilizar um contador:"
   ]
  },
  {
   "cell_type": "code",
   "execution_count": 78,
   "id": "53769652",
   "metadata": {},
   "outputs": [
    {
     "name": "stdout",
     "output_type": "stream",
     "text": [
      "Digite um numero: 8\n",
      "0\n",
      "1\n",
      "2\n",
      "3\n",
      "4\n",
      "5\n",
      "6\n",
      "7\n"
     ]
    }
   ],
   "source": [
    "# Declaramos um contador como 0:\n",
    "contador = 0\n",
    "# Definimos o número de repetições:\n",
    "numero = int(input('Digite um numero: '))\n",
    "# Rodamos o while até o contador se igualar ao número de repetições:\n",
    "while contador < numero:\n",
    "    print(contador)\n",
    "    contador = contador + 1"
   ]
  },
  {
   "cell_type": "code",
   "execution_count": 49,
   "id": "2dc81c25",
   "metadata": {},
   "outputs": [
    {
     "name": "stdout",
     "output_type": "stream",
     "text": [
      "1 item limpo\n",
      "2 itens limpos\n",
      "3 itens limpos\n",
      "4 itens limpos\n",
      "5 itens limpos\n",
      "6 itens limpos\n",
      "7 itens limpos\n",
      "8 itens limpos\n",
      "9 itens limpos\n",
      "10 itens limpos\n",
      "Fim da repetição do bloco while\n"
     ]
    }
   ],
   "source": [
    "contador = 0\n",
    "\n",
    "while contador < 10:\n",
    "    contador = contador + 1\n",
    "    if contador == 1:\n",
    "        print(contador, 'item limpo')\n",
    "    else:\n",
    "        print(contador, 'itens limpos')\n",
    "        \n",
    "print('Fim da repetição do bloco while')"
   ]
  },
  {
   "cell_type": "code",
   "execution_count": 71,
   "id": "4f9ae0bb",
   "metadata": {},
   "outputs": [
    {
     "name": "stdout",
     "output_type": "stream",
     "text": [
      "Qual horario é agora? 4\n",
      "Você está no horario da madrugada\n",
      "Você está no horario da madrugada\n",
      "Você está no horario da madrugada\n",
      "Você nao está no horario da madrugada\n",
      "Digite o numero de pipocas: 7\n",
      "O numero de pipocas é:  7\n",
      "O numero de pipocas é:  6\n",
      "O numero de pipocas é:  5\n",
      "O numero de pipocas é:  4\n",
      "O numero de pipocas é:  3\n",
      "O numero de pipocas é:  2\n",
      "O numero de pipocas é:  1\n"
     ]
    }
   ],
   "source": [
    "#outro exemplo\n",
    "\n",
    "horario = int(input('Qual horario é agora? '))\n",
    "\n",
    "# Testando a condição uma única vez com o if:\n",
    "if 0 < horario < 6:\n",
    "    print('Você está no horario da madrugada')\n",
    "else:\n",
    "    print('Você nao está no horario da madrugada')\n",
    "\n",
    "# Testando a condição em loop com o while:\n",
    "while 0 < horario < 6:\n",
    "    print('Você está no horario da madrugada')\n",
    "    horario = horario + 1\n",
    "else:\n",
    "    print('Você nao está no horario da madrugada')\n",
    "\n",
    "# O while permite continuar decrementando o número de pipocas até chegar em 0:\n",
    "num_pipocas = int(input('Digite o numero de pipocas: '))\n",
    "\n",
    "while num_pipocas > 0:\n",
    "    print('O numero de pipocas é: ', num_pipocas)\n",
    "    num_pipocas = num_pipocas - 1"
   ]
  },
  {
   "cell_type": "markdown",
   "id": "4d53d5c8",
   "metadata": {},
   "source": [
    "**Break**\n",
    "Um jeito de forçar um loop a ser interrompido é utilizando o comando <code>break</code>. O loop abaixo em tese seria infinito, mas se a condição do if for verificada, o <code>break</code> é executado e conseguimos escapar do loop:"
   ]
  },
  {
   "cell_type": "code",
   "execution_count": 74,
   "id": "4ad855c5",
   "metadata": {},
   "outputs": [
    {
     "name": "stdout",
     "output_type": "stream",
     "text": [
      "Digite OK: OK\n"
     ]
    }
   ],
   "source": [
    "while True:\n",
    "    resposta = input('Digite OK: ')\n",
    "    if resposta == 'OK':\n",
    "        break"
   ]
  },
  {
   "cell_type": "code",
   "execution_count": 51,
   "id": "c132e063",
   "metadata": {},
   "outputs": [
    {
     "name": "stdout",
     "output_type": "stream",
     "text": [
      "1 item limpo\n",
      "2 itens limpos\n",
      "3 itens limpos\n",
      "4 itens limpos\n",
      "5 itens limpos\n",
      "6 itens limpos\n",
      "7 itens limpos\n",
      "8 itens limpos\n",
      "9 itens limpos\n",
      "10 itens limpos\n",
      "Fim da repetição do bloco while\n"
     ]
    }
   ],
   "source": [
    "# usando outra condição no while, criando um loop infinito e um break para quebrar o loop\n",
    "contador = 0\n",
    "\n",
    "while True:\n",
    "    if contador < 10:\n",
    "        contador = contador + 1\n",
    "        if contador ==1:\n",
    "            print(contador, 'item limpo')\n",
    "        else:\n",
    "            print(contador, 'itens limpos')\n",
    "    else:\n",
    "            break\n",
    "print('Fim da repetição do bloco while')"
   ]
  },
  {
   "cell_type": "markdown",
   "id": "5b217612",
   "metadata": {},
   "source": [
    "**Validação de entrada**\n",
    "\n",
    "Uma utilidade interessante do while é obrigar o usuário a digitar apenas entradas válidas."
   ]
  },
  {
   "cell_type": "code",
   "execution_count": 52,
   "id": "4104c0c4",
   "metadata": {},
   "outputs": [
    {
     "name": "stdout",
     "output_type": "stream",
     "text": [
      "Digite a sua senha: oi\n",
      "Senha inválida. Tente novamenteoi\n",
      "Senha inválida. Tente novamenteletscode\n",
      "Senha inválida. Tente novamenteLetsCode\n",
      "Acesso permitido\n"
     ]
    }
   ],
   "source": [
    "#utilizando o while com a validação de entrada\n",
    "\n",
    "texto = input('Digite a sua senha: ' )\n",
    "\n",
    "while texto != 'LetsCode':\n",
    "    texto = input('Senha inválida. Tente novamente: ')\n",
    "    \n",
    "print('Acesso permitido')"
   ]
  },
  {
   "cell_type": "code",
   "execution_count": 76,
   "id": "2081b153",
   "metadata": {},
   "outputs": [
    {
     "name": "stdout",
     "output_type": "stream",
     "text": [
      "Digite seu salario: 9\n",
      "Entre com um salario MAIOR DO QUE 998.0: 200000\n",
      "O salario que você entrou foi:  200000.0\n"
     ]
    }
   ],
   "source": [
    "# o exemplo abaixo não aceita um salário menor do que o mínimo atual:\n",
    "salario = float(input('Digite seu salario: '))\n",
    "while salario < 998.0:\n",
    "    salario = float(input('Entre com um salario MAIOR DO QUE 998.0: '))\n",
    "else:\n",
    "    print('O salario que você entrou foi: ', salario)"
   ]
  },
  {
   "cell_type": "code",
   "execution_count": 77,
   "id": "b0a38060",
   "metadata": {},
   "outputs": [
    {
     "name": "stdout",
     "output_type": "stream",
     "text": [
      "Digite OK: ok\n",
      "Não foi isso que eu pedi, digite OK: OK\n"
     ]
    }
   ],
   "source": [
    "# o exemplo abaixo só sai do loop quando o usuário digitar \"OK\":\n",
    "resposta = input('Digite OK: ')\n",
    "while resposta != 'OK':\n",
    "    resposta = input('Não foi isso que eu pedi, digite OK: ')"
   ]
  },
  {
   "cell_type": "markdown",
   "id": "6819d1bb",
   "metadata": {},
   "source": [
    "**continue**\n",
    " Controla de execusão de um loop. no exemplo abaixo ele executa enquanto o número for menor que 10 **a menos que** esse número for igual a 1, ou seja ele ignora quando o número for igual à 1 e segue a execução."
   ]
  },
  {
   "cell_type": "code",
   "execution_count": null,
   "id": "b34790ff",
   "metadata": {},
   "outputs": [],
   "source": [
    "#ignora "
   ]
  },
  {
   "cell_type": "code",
   "execution_count": 88,
   "id": "6cc3cf7e",
   "metadata": {},
   "outputs": [
    {
     "name": "stdout",
     "output_type": "stream",
     "text": [
      "2 itens limpos\n",
      "3 itens limpos\n",
      "4 itens limpos\n",
      "5 itens limpos\n",
      "6 itens limpos\n",
      "7 itens limpos\n",
      "8 itens limpos\n",
      "9 itens limpos\n",
      "10 itens limpos\n",
      "\n",
      "Fim da repetição do bloco while\n"
     ]
    }
   ],
   "source": [
    "contador = 0\n",
    "\n",
    "while contador < 10:\n",
    "    contador = contador + 1\n",
    "    if contador == 1:\n",
    "        continue\n",
    "    print(contador, 'itens limpos')\n",
    "\n",
    "print('\\nFim da repetição do bloco while')"
   ]
  }
 ],
 "metadata": {
  "kernelspec": {
   "display_name": "Python 3",
   "language": "python",
   "name": "python3"
  },
  "language_info": {
   "codemirror_mode": {
    "name": "ipython",
    "version": 3
   },
   "file_extension": ".py",
   "mimetype": "text/x-python",
   "name": "python",
   "nbconvert_exporter": "python",
   "pygments_lexer": "ipython3",
   "version": "3.8.8"
  }
 },
 "nbformat": 4,
 "nbformat_minor": 5
}
